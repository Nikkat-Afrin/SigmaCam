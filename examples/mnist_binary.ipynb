{
  "nbformat": 4,
  "nbformat_minor": 0,
  "metadata": {
    "colab": {
      "provenance": [],
      "gpuType": "T4"
    },
    "kernelspec": {
      "name": "python3",
      "display_name": "Python 3"
    },
    "language_info": {
      "name": "python"
    },
    "accelerator": "GPU"
  },
  "cells": [
    {
      "cell_type": "code",
      "source": [
        "import torch\n",
        "from torch.utils.data import DataLoader, Subset\n",
        "from torchvision import datasets, transforms\n",
        "import matplotlib.pyplot as plt\n",
        "import numpy as np\n",
        "from torch import nn\n",
        "import torch.optim as optim\n",
        "\n",
        "# Transform pipeline without downsampling\n",
        "transform = transforms.Compose([\n",
        "    transforms.ToTensor(),\n",
        "    transforms.Normalize((0.5,), (0.5,))\n",
        "])\n",
        "\n",
        "# Load the MNIST dataset\n",
        "full_trainset = datasets.MNIST(root='./data', train=True, download=True, transform=transform)\n",
        "full_testset = datasets.MNIST(root='./data', train=False, download=True, transform=transform)\n",
        "\n",
        "# Filter for digits 2 and 3\n",
        "def filter_23(dataset):\n",
        "    indices = [i for i, (image, label) in enumerate(dataset) if label in [2, 3]]\n",
        "    return Subset(dataset, indices)\n",
        "\n",
        "trainset = filter_23(full_trainset)\n",
        "testset = filter_23(full_testset)\n",
        "\n",
        "# DataLoader\n",
        "trainloader = DataLoader(trainset, batch_size=64, shuffle=True)\n",
        "testloader = DataLoader(testset, batch_size=64, shuffle=False)\n",
        "\n",
        "# Relabel for binary classification\n",
        "for images, labels in trainloader:\n",
        "    labels = torch.where(labels == 2, 0, 1)  # Relabel 2 as 0, 3 as 1\n",
        "    print(images.shape)  # Should print torch.Size([batch_size, 1, 28, 28])\n",
        "    break\n",
        "\n",
        "# Define the model\n",
        "class MNISTClassifier(nn.Module):\n",
        "    def __init__(self):\n",
        "        super(MNISTClassifier, self).__init__()\n",
        "        self.fc1 = nn.Linear(28 * 28, 128)  # Updated input size for 28x28 images\n",
        "        self.silu = nn.SiLU()\n",
        "        self.fc2 = nn.Linear(128, 1)  # Binary classification output\n",
        "        self.sigmoid = nn.Sigmoid()\n",
        "\n",
        "    def forward(self, x):\n",
        "        x = x.view(x.size(0), -1)  # Flatten the 28x28 images\n",
        "        x = self.fc1(x)\n",
        "        x = self.silu(x)\n",
        "        x = self.fc2(x)\n",
        "        x = self.sigmoid(x)\n",
        "        return x\n",
        "\n",
        "# Instantiate the model, loss function, and optimizer\n",
        "model = MNISTClassifier()\n",
        "criterion = nn.BCELoss()\n",
        "optimizer = optim.Adam(model.parameters(), lr=0.001)"
      ],
      "metadata": {
        "colab": {
          "base_uri": "https://localhost:8080/"
        },
        "id": "su3h5C3YNiuL",
        "outputId": "b75ededd-2170-4b86-efef-720004c00d30"
      },
      "execution_count": null,
      "outputs": [
        {
          "output_type": "stream",
          "name": "stdout",
          "text": [
            "Downloading http://yann.lecun.com/exdb/mnist/train-images-idx3-ubyte.gz\n",
            "Failed to download (trying next):\n",
            "HTTP Error 403: Forbidden\n",
            "\n",
            "Downloading https://ossci-datasets.s3.amazonaws.com/mnist/train-images-idx3-ubyte.gz\n",
            "Downloading https://ossci-datasets.s3.amazonaws.com/mnist/train-images-idx3-ubyte.gz to ./data/MNIST/raw/train-images-idx3-ubyte.gz\n"
          ]
        },
        {
          "output_type": "stream",
          "name": "stderr",
          "text": [
            "100%|██████████| 9.91M/9.91M [00:00<00:00, 16.0MB/s]\n"
          ]
        },
        {
          "output_type": "stream",
          "name": "stdout",
          "text": [
            "Extracting ./data/MNIST/raw/train-images-idx3-ubyte.gz to ./data/MNIST/raw\n",
            "\n",
            "Downloading http://yann.lecun.com/exdb/mnist/train-labels-idx1-ubyte.gz\n",
            "Failed to download (trying next):\n",
            "HTTP Error 403: Forbidden\n",
            "\n",
            "Downloading https://ossci-datasets.s3.amazonaws.com/mnist/train-labels-idx1-ubyte.gz\n",
            "Downloading https://ossci-datasets.s3.amazonaws.com/mnist/train-labels-idx1-ubyte.gz to ./data/MNIST/raw/train-labels-idx1-ubyte.gz\n"
          ]
        },
        {
          "output_type": "stream",
          "name": "stderr",
          "text": [
            "100%|██████████| 28.9k/28.9k [00:00<00:00, 480kB/s]\n"
          ]
        },
        {
          "output_type": "stream",
          "name": "stdout",
          "text": [
            "Extracting ./data/MNIST/raw/train-labels-idx1-ubyte.gz to ./data/MNIST/raw\n",
            "\n",
            "Downloading http://yann.lecun.com/exdb/mnist/t10k-images-idx3-ubyte.gz\n",
            "Failed to download (trying next):\n",
            "HTTP Error 403: Forbidden\n",
            "\n",
            "Downloading https://ossci-datasets.s3.amazonaws.com/mnist/t10k-images-idx3-ubyte.gz\n",
            "Downloading https://ossci-datasets.s3.amazonaws.com/mnist/t10k-images-idx3-ubyte.gz to ./data/MNIST/raw/t10k-images-idx3-ubyte.gz\n"
          ]
        },
        {
          "output_type": "stream",
          "name": "stderr",
          "text": [
            "100%|██████████| 1.65M/1.65M [00:00<00:00, 4.38MB/s]\n"
          ]
        },
        {
          "output_type": "stream",
          "name": "stdout",
          "text": [
            "Extracting ./data/MNIST/raw/t10k-images-idx3-ubyte.gz to ./data/MNIST/raw\n",
            "\n",
            "Downloading http://yann.lecun.com/exdb/mnist/t10k-labels-idx1-ubyte.gz\n",
            "Failed to download (trying next):\n",
            "HTTP Error 403: Forbidden\n",
            "\n",
            "Downloading https://ossci-datasets.s3.amazonaws.com/mnist/t10k-labels-idx1-ubyte.gz\n",
            "Downloading https://ossci-datasets.s3.amazonaws.com/mnist/t10k-labels-idx1-ubyte.gz to ./data/MNIST/raw/t10k-labels-idx1-ubyte.gz\n"
          ]
        },
        {
          "output_type": "stream",
          "name": "stderr",
          "text": [
            "100%|██████████| 4.54k/4.54k [00:00<00:00, 4.65MB/s]\n"
          ]
        },
        {
          "output_type": "stream",
          "name": "stdout",
          "text": [
            "Extracting ./data/MNIST/raw/t10k-labels-idx1-ubyte.gz to ./data/MNIST/raw\n",
            "\n",
            "torch.Size([64, 1, 28, 28])\n"
          ]
        }
      ]
    },
    {
      "cell_type": "code",
      "source": [
        "\n",
        "\n",
        "# Training loop\n",
        "num_epochs = 10\n",
        "for epoch in range(num_epochs):\n",
        "    for batch_data, batch_labels in trainloader:\n",
        "        # Relabel 2 as 0 and 3 as 1\n",
        "        batch_labels = torch.where(batch_labels == 2, 0, 1)\n",
        "\n",
        "        # Reset gradients\n",
        "        optimizer.zero_grad()\n",
        "\n",
        "        # Forward pass\n",
        "        outputs = model(batch_data)\n",
        "        loss = criterion(outputs.squeeze(), batch_labels.float())  # Ensure labels are float\n",
        "\n",
        "        # Backward pass\n",
        "        loss.backward()\n",
        "        optimizer.step()\n",
        "\n",
        "    print(f\"Epoch [{epoch+1}/{num_epochs}], Loss: {loss.item():.4f}\")\n",
        "\n",
        "print(\"Training finished.\")\n"
      ],
      "metadata": {
        "colab": {
          "base_uri": "https://localhost:8080/"
        },
        "id": "ueD3XcV0e3U1",
        "outputId": "48ce511b-11e2-41c7-8ebe-213d3cec56ad"
      },
      "execution_count": null,
      "outputs": [
        {
          "output_type": "stream",
          "name": "stdout",
          "text": [
            "Downloading http://yann.lecun.com/exdb/mnist/train-images-idx3-ubyte.gz\n",
            "Failed to download (trying next):\n",
            "HTTP Error 403: Forbidden\n",
            "\n",
            "Downloading https://ossci-datasets.s3.amazonaws.com/mnist/train-images-idx3-ubyte.gz\n",
            "Downloading https://ossci-datasets.s3.amazonaws.com/mnist/train-images-idx3-ubyte.gz to ./data/MNIST/raw/train-images-idx3-ubyte.gz\n"
          ]
        },
        {
          "output_type": "stream",
          "name": "stderr",
          "text": [
            "100%|██████████| 9.91M/9.91M [00:00<00:00, 17.9MB/s]\n"
          ]
        },
        {
          "output_type": "stream",
          "name": "stdout",
          "text": [
            "Extracting ./data/MNIST/raw/train-images-idx3-ubyte.gz to ./data/MNIST/raw\n",
            "\n",
            "Downloading http://yann.lecun.com/exdb/mnist/train-labels-idx1-ubyte.gz\n",
            "Failed to download (trying next):\n",
            "HTTP Error 403: Forbidden\n",
            "\n",
            "Downloading https://ossci-datasets.s3.amazonaws.com/mnist/train-labels-idx1-ubyte.gz\n",
            "Downloading https://ossci-datasets.s3.amazonaws.com/mnist/train-labels-idx1-ubyte.gz to ./data/MNIST/raw/train-labels-idx1-ubyte.gz\n"
          ]
        },
        {
          "output_type": "stream",
          "name": "stderr",
          "text": [
            "100%|██████████| 28.9k/28.9k [00:00<00:00, 496kB/s]\n"
          ]
        },
        {
          "output_type": "stream",
          "name": "stdout",
          "text": [
            "Extracting ./data/MNIST/raw/train-labels-idx1-ubyte.gz to ./data/MNIST/raw\n",
            "\n",
            "Downloading http://yann.lecun.com/exdb/mnist/t10k-images-idx3-ubyte.gz\n",
            "Failed to download (trying next):\n",
            "HTTP Error 403: Forbidden\n",
            "\n",
            "Downloading https://ossci-datasets.s3.amazonaws.com/mnist/t10k-images-idx3-ubyte.gz\n",
            "Downloading https://ossci-datasets.s3.amazonaws.com/mnist/t10k-images-idx3-ubyte.gz to ./data/MNIST/raw/t10k-images-idx3-ubyte.gz\n"
          ]
        },
        {
          "output_type": "stream",
          "name": "stderr",
          "text": [
            "100%|██████████| 1.65M/1.65M [00:00<00:00, 4.51MB/s]\n"
          ]
        },
        {
          "output_type": "stream",
          "name": "stdout",
          "text": [
            "Extracting ./data/MNIST/raw/t10k-images-idx3-ubyte.gz to ./data/MNIST/raw\n",
            "\n",
            "Downloading http://yann.lecun.com/exdb/mnist/t10k-labels-idx1-ubyte.gz\n",
            "Failed to download (trying next):\n",
            "HTTP Error 403: Forbidden\n",
            "\n",
            "Downloading https://ossci-datasets.s3.amazonaws.com/mnist/t10k-labels-idx1-ubyte.gz\n",
            "Downloading https://ossci-datasets.s3.amazonaws.com/mnist/t10k-labels-idx1-ubyte.gz to ./data/MNIST/raw/t10k-labels-idx1-ubyte.gz\n"
          ]
        },
        {
          "output_type": "stream",
          "name": "stderr",
          "text": [
            "100%|██████████| 4.54k/4.54k [00:00<00:00, 4.97MB/s]\n"
          ]
        },
        {
          "output_type": "stream",
          "name": "stdout",
          "text": [
            "Extracting ./data/MNIST/raw/t10k-labels-idx1-ubyte.gz to ./data/MNIST/raw\n",
            "\n",
            "torch.Size([64, 1, 28, 28])\n",
            "Epoch [1/10], Loss: 0.0531\n",
            "Epoch [2/10], Loss: 0.0248\n",
            "Epoch [3/10], Loss: 0.0025\n",
            "Epoch [4/10], Loss: 0.0237\n",
            "Epoch [5/10], Loss: 0.0169\n",
            "Epoch [6/10], Loss: 0.0134\n",
            "Epoch [7/10], Loss: 0.0078\n",
            "Epoch [8/10], Loss: 0.0109\n",
            "Epoch [9/10], Loss: 0.0015\n",
            "Epoch [10/10], Loss: 0.0022\n",
            "Training finished.\n"
          ]
        }
      ]
    },
    {
      "cell_type": "code",
      "source": [
        "# save the model\n",
        "\n",
        "torch.save(model.state_dict(), '/content/MNIST_non_downsample_model.pth')"
      ],
      "metadata": {
        "id": "6elDKiOQfWSx"
      },
      "execution_count": null,
      "outputs": []
    },
    {
      "cell_type": "code",
      "source": [
        "# Evaluation loop\n",
        "correct_predictions = 0\n",
        "total_samples = 0\n",
        "with torch.no_grad():  # Disable gradient calculations during evaluation\n",
        "    for batch_data, batch_labels in testloader:  # Use testloader for evaluation\n",
        "        # Relabel 2 as 0 and 3 as 1\n",
        "        batch_labels = torch.where(batch_labels == 2, 0, 1)\n",
        "\n",
        "        # Forward pass\n",
        "        outputs = model(batch_data)\n",
        "\n",
        "        # Predicted labels: Apply threshold (outputs > 0.5 for class 1)\n",
        "        predicted_labels = (outputs > 0.5).float()\n",
        "\n",
        "        # Calculate correct predictions\n",
        "        correct_predictions += (predicted_labels.squeeze() == batch_labels.float()).sum().item()\n",
        "        total_samples += batch_labels.size(0)\n",
        "\n",
        "# Calculate accuracy\n",
        "accuracy = correct_predictions / total_samples\n",
        "print(f\"Accuracy: {accuracy * 100:.2f}%\")\n"
      ],
      "metadata": {
        "colab": {
          "base_uri": "https://localhost:8080/"
        },
        "id": "CNS2kC7sfHw6",
        "outputId": "16ba45a2-363b-431b-8c3b-38d078352622"
      },
      "execution_count": null,
      "outputs": [
        {
          "output_type": "stream",
          "name": "stdout",
          "text": [
            "Accuracy: 99.56%\n"
          ]
        }
      ]
    },
    {
      "cell_type": "code",
      "source": [
        "\n",
        "\n",
        "import torch\n",
        "\n",
        "torch.save(model.state_dict(), '/content/MNIST_downsample_model.pth')\n"
      ],
      "metadata": {
        "id": "Ju9TPHzyFy1c"
      },
      "execution_count": null,
      "outputs": []
    },
    {
      "cell_type": "code",
      "execution_count": null,
      "metadata": {
        "id": "7Q7egA9ohISs",
        "colab": {
          "base_uri": "https://localhost:8080/"
        },
        "outputId": "1aa8088a-e9e6-4ebe-eab0-3172bb1ee7cf"
      },
      "outputs": [
        {
          "output_type": "stream",
          "name": "stdout",
          "text": [
            "Collecting livelossplot\n",
            "  Downloading livelossplot-0.5.5-py3-none-any.whl.metadata (8.7 kB)\n",
            "Requirement already satisfied: matplotlib in /usr/local/lib/python3.10/dist-packages (from livelossplot) (3.8.0)\n",
            "Requirement already satisfied: bokeh in /usr/local/lib/python3.10/dist-packages (from livelossplot) (3.6.1)\n",
            "Requirement already satisfied: Jinja2>=2.9 in /usr/local/lib/python3.10/dist-packages (from bokeh->livelossplot) (3.1.4)\n",
            "Requirement already satisfied: contourpy>=1.2 in /usr/local/lib/python3.10/dist-packages (from bokeh->livelossplot) (1.3.1)\n",
            "Requirement already satisfied: numpy>=1.16 in /usr/local/lib/python3.10/dist-packages (from bokeh->livelossplot) (1.26.4)\n",
            "Requirement already satisfied: packaging>=16.8 in /usr/local/lib/python3.10/dist-packages (from bokeh->livelossplot) (24.2)\n",
            "Requirement already satisfied: pandas>=1.2 in /usr/local/lib/python3.10/dist-packages (from bokeh->livelossplot) (2.2.2)\n",
            "Requirement already satisfied: pillow>=7.1.0 in /usr/local/lib/python3.10/dist-packages (from bokeh->livelossplot) (11.0.0)\n",
            "Requirement already satisfied: PyYAML>=3.10 in /usr/local/lib/python3.10/dist-packages (from bokeh->livelossplot) (6.0.2)\n",
            "Requirement already satisfied: tornado>=6.2 in /usr/local/lib/python3.10/dist-packages (from bokeh->livelossplot) (6.3.3)\n",
            "Requirement already satisfied: xyzservices>=2021.09.1 in /usr/local/lib/python3.10/dist-packages (from bokeh->livelossplot) (2024.9.0)\n",
            "Requirement already satisfied: cycler>=0.10 in /usr/local/lib/python3.10/dist-packages (from matplotlib->livelossplot) (0.12.1)\n",
            "Requirement already satisfied: fonttools>=4.22.0 in /usr/local/lib/python3.10/dist-packages (from matplotlib->livelossplot) (4.55.0)\n",
            "Requirement already satisfied: kiwisolver>=1.0.1 in /usr/local/lib/python3.10/dist-packages (from matplotlib->livelossplot) (1.4.7)\n",
            "Requirement already satisfied: pyparsing>=2.3.1 in /usr/local/lib/python3.10/dist-packages (from matplotlib->livelossplot) (3.2.0)\n",
            "Requirement already satisfied: python-dateutil>=2.7 in /usr/local/lib/python3.10/dist-packages (from matplotlib->livelossplot) (2.8.2)\n",
            "Requirement already satisfied: MarkupSafe>=2.0 in /usr/local/lib/python3.10/dist-packages (from Jinja2>=2.9->bokeh->livelossplot) (3.0.2)\n",
            "Requirement already satisfied: pytz>=2020.1 in /usr/local/lib/python3.10/dist-packages (from pandas>=1.2->bokeh->livelossplot) (2024.2)\n",
            "Requirement already satisfied: tzdata>=2022.7 in /usr/local/lib/python3.10/dist-packages (from pandas>=1.2->bokeh->livelossplot) (2024.2)\n",
            "Requirement already satisfied: six>=1.5 in /usr/local/lib/python3.10/dist-packages (from python-dateutil>=2.7->matplotlib->livelossplot) (1.16.0)\n",
            "Downloading livelossplot-0.5.5-py3-none-any.whl (22 kB)\n",
            "Installing collected packages: livelossplot\n",
            "Successfully installed livelossplot-0.5.5\n",
            "Requirement already satisfied: imageio-ffmpeg in /usr/local/lib/python3.10/dist-packages (0.5.1)\n",
            "Requirement already satisfied: setuptools in /usr/local/lib/python3.10/dist-packages (from imageio-ffmpeg) (75.1.0)\n"
          ]
        }
      ],
      "source": [
        "!pip install livelossplot\n",
        "!pip install imageio-ffmpeg"
      ]
    },
    {
      "cell_type": "markdown",
      "source": [
        "Sigmoid"
      ],
      "metadata": {
        "id": "_IL54BpdIHg0"
      }
    },
    {
      "cell_type": "code",
      "source": [
        "def sigmoid(x):\n",
        "    return 1/(1+np.exp(-x))\n",
        "\n",
        "def fn(out_pre,model_dict_ls,li):\n",
        "    if li == len(model_dict_ls)/2:\n",
        "        return out_pre\n",
        "    out_cur = []\n",
        "    for i in range(len(model_dict_ls[2*li])):\n",
        "        x = 0\n",
        "        for j in range(len(out_pre)):\n",
        "            x = x + out_pre[j]*model_dict_ls[2*li][i][j]\n",
        "        if li == (len(model_dict_ls)/2)-1:\n",
        "            out_cur.append(x+model_dict_ls[2*li+1][i])\n",
        "        else:\n",
        "            out_cur.append(sigmoid(x+model_dict_ls[2*li+1][i]))\n",
        "    li+=1\n",
        "    return fn(np.array(out_cur),model_dict_ls,li)"
      ],
      "metadata": {
        "id": "vSDveRBbhQtC"
      },
      "execution_count": null,
      "outputs": []
    },
    {
      "cell_type": "markdown",
      "source": [
        "SiLU"
      ],
      "metadata": {
        "id": "-D0tPXk_hk2U"
      }
    },
    {
      "cell_type": "code",
      "source": [
        "def sigmoid(x):\n",
        "    return 1/(1+np.exp(-x))\n",
        "\n",
        "def fn(out_pre,model_dict_ls,li):\n",
        "    if li == len(model_dict_ls)/2:\n",
        "        return out_pre\n",
        "    out_cur = []\n",
        "    for i in range(len(model_dict_ls[2*li])):\n",
        "        x = 0\n",
        "        for j in range(len(out_pre)):\n",
        "            x = x + out_pre[j]*model_dict_ls[2*li][i][j]\n",
        "        out_cur.append((x+model_dict_ls[2*li+1][i])*sigmoid(x+model_dict_ls[2*li+1][i]))\n",
        "    li+=1\n",
        "    return fn(np.array(out_cur),model_dict_ls,li)"
      ],
      "metadata": {
        "id": "IqHdV2o5fbaj"
      },
      "execution_count": null,
      "outputs": []
    },
    {
      "cell_type": "markdown",
      "source": [
        "SiLU + Final layer Sigmoid"
      ],
      "metadata": {
        "id": "S4qrqaX3H9Xc"
      }
    },
    {
      "cell_type": "code",
      "source": [
        "def sigmoid(x):\n",
        "    return 1/(1+np.exp(-x))\n",
        "\n",
        "def fn(out_pre,model_dict_ls,li):\n",
        "    if li == len(model_dict_ls)/2:\n",
        "        return out_pre\n",
        "    out_cur = []\n",
        "    for i in range(len(model_dict_ls[2*li])):\n",
        "        x = 0\n",
        "        for j in range(len(out_pre)):\n",
        "            x = x + out_pre[j]*model_dict_ls[2*li][i][j]\n",
        "        if li == (len(model_dict_ls)/2)-1:\n",
        "            out_cur.append(sigmoid(x+model_dict_ls[2*li+1][i]))\n",
        "        else:\n",
        "            out_cur.append((x+model_dict_ls[2*li+1][i])*sigmoid(x+model_dict_ls[2*li+1][i]))\n",
        "    li+=1\n",
        "    return fn(np.array(out_cur),model_dict_ls,li)"
      ],
      "metadata": {
        "id": "am7jwCA9hXfn"
      },
      "execution_count": null,
      "outputs": []
    },
    {
      "cell_type": "markdown",
      "source": [
        "Helpers"
      ],
      "metadata": {
        "id": "X-bvsWlSIMqJ"
      }
    },
    {
      "cell_type": "code",
      "source": [
        "\n",
        "def get_square_slice_from_one_anchor(anchors,pad_dist=1,seed=None):\n",
        "    \"\"\"\n",
        "    Given one vector as an anchor, takes a randomly oriented slice with the anchor at the center\n",
        "    \"\"\"\n",
        "#     if seed is not None:\n",
        "#         torch.manual_seed(seed)\n",
        "\n",
        "    assert len(anchors) == 1\n",
        "\n",
        "    centroid = anchors[0]\n",
        "\n",
        "    z1 = torch.randn_like(anchors[0])\n",
        "    z2 = torch.randn_like(anchors[0])\n",
        "\n",
        "    u1 = z1\n",
        "    u2 = z2 - (u1.T @ z2)/(u1.T @ u1)*u1\n",
        "\n",
        "    dirs = torch.vstack([u1,u2])\n",
        "    dirs /= torch.linalg.norm(dirs,dim=-1,keepdim=True)\n",
        "    domain = torch.vstack([centroid+pad_dist*dirs,centroid-pad_dist*dirs])\n",
        "    domain_poly = torch.vstack([domain,domain[:1]])\n",
        "\n",
        "    return domain_poly\n",
        "\n",
        "\n",
        "\n",
        "def get_square_slice_from_two_anchors(anchors,pad_dist=1,seed=-1):\n",
        "\n",
        "    if not seed == -1: #None buggy for jit\n",
        "        torch.manual_seed(seed)\n",
        "\n",
        "    assert len(anchors) == 2\n",
        "\n",
        "    centroid = torch.mean(anchors,dim=0)\n",
        "\n",
        "    u1 = anchors[0] - centroid\n",
        "    z = torch.randn_like(anchors[0])\n",
        "    u2 = z - (u1.T @ z)/(u1.T @ u1)*u1\n",
        "\n",
        "    dirs = torch.vstack([u1,u2])\n",
        "    dirs /= torch.linalg.norm(dirs,dim=-1,keepdim=True)\n",
        "    domain = torch.vstack([centroid+pad_dist*dirs,centroid-pad_dist*dirs])\n",
        "    domain_poly = torch.vstack([domain,domain[:1]])\n",
        "\n",
        "    return domain_poly\n",
        "\n",
        "def get_square_domain_from_three_anchors(anchors,pad_dist=1,seed=-1):\n",
        "\n",
        "    if not seed == -1: #None buggy for jit\n",
        "        torch.manual_seed(seed)\n",
        "\n",
        "    assert len(anchors) == 3\n",
        "\n",
        "    centroid = torch.mean(anchors,dim=0)\n",
        "\n",
        "    u1 = anchors[0] - centroid\n",
        "    z = torch.randn_like(anchors[0])\n",
        "    u2 = z - (u1.T @ z)/(u1.T @ u1)*u1\n",
        "\n",
        "    dirs = torch.vstack([u1,u2])\n",
        "    dirs /= torch.linalg.norm(dirs,dim=-1,keepdim=True)\n",
        "    domain = torch.vstack([centroid+pad_dist*dirs,centroid-pad_dist*dirs])\n",
        "    domain_poly = torch.vstack([domain,domain[:1]])\n",
        "\n",
        "    return domain_poly\n",
        "\n",
        "def get_square_bad_domain_from_three_anchors(anchors, pad_dist=1):\n",
        "    \"\"\"\n",
        "    Generate a square domain in n-dimensional space based on three anchor points.\n",
        "    The square lies in the plane defined by the three anchors, centered at their centroid,\n",
        "    and with side length equal to pad_dist.\n",
        "    \"\"\"\n",
        "    assert len(anchors) == 3, \"Exactly three anchors are required.\"\n",
        "    anchors = anchors#torch.stack(anchors)\n",
        "    centroid = torch.mean(anchors, dim=0)\n",
        "\n",
        "    # Compute vectors in the plane\n",
        "    v1 = anchors[1] - anchors[0]\n",
        "    v2 = anchors[2] - anchors[0]\n",
        "\n",
        "    # Orthonormal basis via Gram-Schmidt process\n",
        "    u1 = v1 / torch.norm(v1)\n",
        "    v2_proj = v2 - torch.dot(v2, u1) * u1\n",
        "    u2 = v2_proj / torch.norm(v2_proj)\n",
        "\n",
        "    # Now u1 and u2 are orthonormal vectors in the plane\n",
        "\n",
        "    # Define the square in the plane, centered at the centroid\n",
        "    s = pad_dist / 2  # Half the side length\n",
        "\n",
        "    # Define the four corners of the square\n",
        "    corners = []\n",
        "    for dx, dy in [(-s, -s), (-s, s), (s, s), (s, -s)]:\n",
        "        point = centroid + dx * u1 + dy * u2\n",
        "        corners.append(point)\n",
        "\n",
        "    # Close the polygon\n",
        "    domain_poly = torch.stack(corners + [corners[0]])\n",
        "\n",
        "    return domain_poly\n",
        "\n",
        "\n",
        "def get_proj_mat(domain):\n",
        "\n",
        "    v1 = domain[1] - domain[0]\n",
        "    v2 = domain[-2] - domain[0]\n",
        "\n",
        "    v = torch.vstack([v1,v2])\n",
        "    v /= torch.linalg.norm(v,dim=-1,keepdim=True)\n",
        "\n",
        "    return torch.hstack([v.T,domain.mean(0,keepdim=True).T])"
      ],
      "metadata": {
        "id": "gFv1ErcQirMs"
      },
      "execution_count": null,
      "outputs": []
    },
    {
      "cell_type": "code",
      "source": [
        "samples = []\n",
        "label_done = -1\n",
        "for i, (data, labels) in enumerate(trainloader):\n",
        "    if label_done != labels[0]:\n",
        "        samples.append(data[0].flatten())  # Get the first data point from the batch\n",
        "        label_done = labels[0]\n",
        "        print(labels[0])\n",
        "    if len(samples) == 2:\n",
        "        break\n",
        "\n",
        "stacked_samples = torch.stack(samples)\n",
        "stacked_samples"
      ],
      "metadata": {
        "colab": {
          "base_uri": "https://localhost:8080/"
        },
        "id": "e6dGRPff6jvr",
        "outputId": "0b32e79f-c244-481a-a742-c9a4791da278"
      },
      "execution_count": null,
      "outputs": [
        {
          "output_type": "stream",
          "name": "stdout",
          "text": [
            "tensor(3)\n",
            "tensor(2)\n"
          ]
        },
        {
          "output_type": "execute_result",
          "data": {
            "text/plain": [
              "tensor([[-1., -1., -1.,  ..., -1., -1., -1.],\n",
              "        [-1., -1., -1.,  ..., -1., -1., -1.]])"
            ]
          },
          "metadata": {},
          "execution_count": 39
        }
      ]
    },
    {
      "cell_type": "code",
      "source": [
        "import matplotlib.pyplot as plt\n",
        "\n",
        "# Reshape the flattened tensors back into 28x28 images\n",
        "image1 = stacked_samples[0].reshape(28, 28)\n",
        "image2 = stacked_samples[1].reshape(28, 28)\n",
        "\n",
        "# Create a figure and axes\n",
        "fig, axes = plt.subplots(1, 2, figsize=(8, 4))\n",
        "\n",
        "# Display the first image\n",
        "axes[0].imshow(image1, cmap='gray')\n",
        "axes[0].set_title('Sample 1')\n",
        "\n",
        "# Display the second image\n",
        "axes[1].imshow(image2, cmap='gray')\n",
        "axes[1].set_title('Sample 2')\n",
        "\n",
        "# Adjust layout and show the plot\n",
        "plt.tight_layout()\n",
        "plt.show()"
      ],
      "metadata": {
        "colab": {
          "base_uri": "https://localhost:8080/",
          "height": 433
        },
        "id": "HW8IhM54iMj-",
        "outputId": "c284bf2b-d207-47ab-9b7a-1e90b4d9ad29"
      },
      "execution_count": null,
      "outputs": [
        {
          "output_type": "display_data",
          "data": {
            "text/plain": [
              "<Figure size 800x400 with 2 Axes>"
            ],
            "image/png": "[encoded data removed]"
          },
          "metadata": {}
        }
      ]
    },
    {
      "cell_type": "code",
      "source": [
        "stacked_samples.shape"
      ],
      "metadata": {
        "colab": {
          "base_uri": "https://localhost:8080/"
        },
        "id": "GFbS-fLX72TW",
        "outputId": "e221b59e-1ba8-4e0b-dad7-78b3c8e07375"
      },
      "execution_count": null,
      "outputs": [
        {
          "output_type": "execute_result",
          "data": {
            "text/plain": [
              "torch.Size([2, 784])"
            ]
          },
          "metadata": {},
          "execution_count": 41
        }
      ]
    },
    {
      "cell_type": "code",
      "source": [
        "other_samples = []\n",
        "label_done = -1\n",
        "for i, (data, labels) in enumerate(trainloader):\n",
        "    if label_done != labels[0]:\n",
        "        other_samples.append(data[0].flatten())  # Get the first data point from the batch\n",
        "        label_done = labels[0]\n",
        "        print(labels[0])\n",
        "    if len(other_samples) == 2:\n",
        "        break\n",
        "\n",
        "stacked_other_samples = torch.stack(other_samples)\n",
        "stacked_other_samples"
      ],
      "metadata": {
        "colab": {
          "base_uri": "https://localhost:8080/"
        },
        "id": "pewHoDpCRTSB",
        "outputId": "290cc673-79dc-46ff-90da-3acc66eeca8c"
      },
      "execution_count": null,
      "outputs": [
        {
          "output_type": "stream",
          "name": "stdout",
          "text": [
            "tensor(3)\n",
            "tensor(2)\n"
          ]
        },
        {
          "output_type": "execute_result",
          "data": {
            "text/plain": [
              "tensor([[-1., -1., -1.,  ..., -1., -1., -1.],\n",
              "        [-1., -1., -1.,  ..., -1., -1., -1.]])"
            ]
          },
          "metadata": {},
          "execution_count": 42
        }
      ]
    },
    {
      "cell_type": "code",
      "source": [
        "import matplotlib.pyplot as plt\n",
        "\n",
        "# Reshape the flattened tensors back into 28x28 images\n",
        "image1 = stacked_other_samples[0].reshape(28, 28)\n",
        "image2 = stacked_other_samples[1].reshape(28, 28)\n",
        "\n",
        "# Create a figure and axes\n",
        "fig, axes = plt.subplots(1, 2, figsize=(8, 4))\n",
        "\n",
        "# Display the first image\n",
        "axes[0].imshow(image1, cmap='gray')\n",
        "axes[0].set_title('Sample 1')\n",
        "\n",
        "# Display the second image\n",
        "axes[1].imshow(image2, cmap='gray')\n",
        "axes[1].set_title('Sample 2')\n",
        "\n",
        "# Adjust layout and show the plot\n",
        "plt.tight_layout()\n",
        "plt.show()"
      ],
      "metadata": {
        "colab": {
          "base_uri": "https://localhost:8080/",
          "height": 433
        },
        "id": "0uNx7N3gRnQ7",
        "outputId": "de2795ef-4438-44d5-f3f7-4c242d300581"
      },
      "execution_count": null,
      "outputs": [
        {
          "output_type": "display_data",
          "data": {
            "text/plain": [
              "<Figure size 800x400 with 2 Axes>"
            ],
            "image/png": "[encoded data removed]"
          },
          "metadata": {}
        }
      ]
    },
    {
      "cell_type": "code",
      "source": [
        "# Calculate Euclidean distance\n",
        "def euclidean_distance(vector1, vector2):\n",
        "    return torch.norm(vector1 - vector2)\n",
        "\n",
        "# Assuming stacked_samples is already defined from the previous code\n",
        "distance = euclidean_distance(stacked_other_samples[0], stacked_samples[0])\n",
        "\n",
        "print(f\"Euclidean distance between the two vectors: {distance}\")"
      ],
      "metadata": {
        "colab": {
          "base_uri": "https://localhost:8080/"
        },
        "id": "m2RtNRL5R3PS",
        "outputId": "a28da5b8-8e7a-4835-e2bb-54fd0cf7d01d"
      },
      "execution_count": null,
      "outputs": [
        {
          "output_type": "stream",
          "name": "stdout",
          "text": [
            "Euclidean distance between the two vectors: 15.785181045532227\n"
          ]
        }
      ]
    },
    {
      "cell_type": "code",
      "source": [
        "# Calculate Euclidean distance\n",
        "def euclidean_distance(vector1, vector2):\n",
        "    return torch.norm(vector1 - vector2)\n",
        "\n",
        "# Assuming stacked_samples is already defined from the previous code\n",
        "distance = euclidean_distance(stacked_other_samples[1], stacked_samples[1])\n",
        "\n",
        "print(f\"Euclidean distance between the two vectors: {distance}\")"
      ],
      "metadata": {
        "colab": {
          "base_uri": "https://localhost:8080/"
        },
        "id": "penT52gVSCXd",
        "outputId": "19c58366-29bf-4e33-8e85-4c22046780d2"
      },
      "execution_count": null,
      "outputs": [
        {
          "output_type": "stream",
          "name": "stdout",
          "text": [
            "Euclidean distance between the two vectors: 19.697071075439453\n"
          ]
        }
      ]
    },
    {
      "cell_type": "code",
      "source": [
        "# Calculate Euclidean distance\n",
        "def euclidean_distance(vector1, vector2):\n",
        "    return torch.norm(vector1 - vector2)\n",
        "\n",
        "# Assuming stacked_samples is already defined from the previous code\n",
        "distance = euclidean_distance(stacked_other_samples[0], stacked_other_samples[1])\n",
        "\n",
        "print(f\"Euclidean distance between the two vectors: {distance}\")"
      ],
      "metadata": {
        "colab": {
          "base_uri": "https://localhost:8080/"
        },
        "id": "A3K5_0CKSKKM",
        "outputId": "3fb9b004-a183-42f1-e5af-06821e9e81f1"
      },
      "execution_count": null,
      "outputs": [
        {
          "output_type": "stream",
          "name": "stdout",
          "text": [
            "Euclidean distance between the two vectors: 21.409828186035156\n"
          ]
        }
      ]
    },
    {
      "cell_type": "code",
      "source": [
        "# Calculate Euclidean distance\n",
        "def euclidean_distance(vector1, vector2):\n",
        "    return torch.norm(vector1 - vector2)\n",
        "\n",
        "# Assuming stacked_samples is already defined from the previous code\n",
        "distance = euclidean_distance(stacked_samples[0], stacked_samples[1])\n",
        "\n",
        "print(f\"Euclidean distance between the two vectors: {distance}\")"
      ],
      "metadata": {
        "colab": {
          "base_uri": "https://localhost:8080/"
        },
        "id": "7Lk9If5iSN1B",
        "outputId": "77e74e22-c51d-4385-a78f-1c201e1e719e"
      },
      "execution_count": null,
      "outputs": [
        {
          "output_type": "stream",
          "name": "stdout",
          "text": [
            "Euclidean distance between the two vectors: 22.521848678588867\n"
          ]
        }
      ]
    },
    {
      "cell_type": "code",
      "source": [
        "import numpy as np\n",
        "from matplotlib.path import Path\n",
        "\n",
        "def get_proj_mat(domain):\n",
        "    \"\"\"\n",
        "    Compute the projection matrix P and translation vector x0 for projecting n-dimensional points to 2D.\n",
        "    \"\"\"\n",
        "    v1 = domain[1] - domain[0]\n",
        "    v2 = domain[2] - domain[0]\n",
        "\n",
        "    # Orthonormal basis via Gram-Schmidt process\n",
        "    e1 = v1 / np.linalg.norm(v1)\n",
        "    v2_proj = v2 - np.dot(v2, e1) * e1\n",
        "    e2 = v2_proj / np.linalg.norm(v2_proj)\n",
        "\n",
        "    # Projection matrix from nD to 2D\n",
        "    P = np.vstack([e1, e2])  # Shape: (2, n)\n",
        "\n",
        "    # Translation vector (mean of the domain)\n",
        "    x0 = domain.mean(axis=0)  # Shape: (n,)\n",
        "\n",
        "    return P, x0\n",
        "\n",
        "def project_points(points, P, x0):\n",
        "    \"\"\"\n",
        "    Project n-dimensional points to 2D using projection matrix P and translation x0.\n",
        "    \"\"\"\n",
        "    return (P @ (points - x0).T).T  # Shape: (N, 2)\n",
        "\n",
        "def back_project_points(points_2d, P, x0):\n",
        "    \"\"\"\n",
        "    Back-project 2D points to n-dimensional space using the pseudoinverse of P and translation x0.\n",
        "    \"\"\"\n",
        "    P_pinv = np.linalg.pinv(P)  # Shape: (n, 2)\n",
        "    return (P_pinv @ points_2d.T).T + x0  # Shape: (N, n)\n",
        "\n",
        "def create_2d_arrays_for_hyperspace(domain):\n",
        "    \"\"\"\n",
        "    Create 2D arrays for each dimension such that the square domain in hyperspace is represented\n",
        "    as a 2D grid of points lying within the domain.\n",
        "    \"\"\"\n",
        "    # Step 1: Compute the projection matrix and translation vector\n",
        "    P, x0 = get_proj_mat(domain)  # P: (2, n), x0: (n,)\n",
        "\n",
        "    # Step 2: Project the domain to 2D\n",
        "    domain_2d = project_points(domain, P, x0)  # Shape: (m, 2)\n",
        "\n",
        "    # Step 3: Create a 2D grid in the projected space\n",
        "    x_min, x_max = domain_2d[:, 0].min(), domain_2d[:, 0].max()\n",
        "    y_min, y_max = domain_2d[:, 1].min(), domain_2d[:, 1].max()\n",
        "    x2 = np.linspace(x_min, x_max, 100)\n",
        "    y2 = np.linspace(y_min, y_max, 100)\n",
        "    X2, Y2 = np.meshgrid(x2, y2)  # Shapes: (100, 100)\n",
        "\n",
        "    # Step 4: Flatten the grid and back-project to hyperspace\n",
        "    grid_2d_flat = np.vstack([X2.ravel(), Y2.ravel()]).T  # Shape: (10000, 2)\n",
        "    back_projected_points_flat = back_project_points(grid_2d_flat, P, x0)  # Shape: (10000, n)\n",
        "\n",
        "    # Step 5: Filter points that lie inside the projected domain\n",
        "    path = Path(domain_2d)\n",
        "    inside_mask_flat = path.contains_points(grid_2d_flat)  # Shape: (10000,)\n",
        "\n",
        "    # Step 6: Reshape back-projected points and mask to grid shape\n",
        "    back_projected_points = back_projected_points_flat.reshape(X2.shape + (back_projected_points_flat.shape[1],))  # Shape: (100, 100, n)\n",
        "\n",
        "    # Assuming grid_points is the array of shape (100, 100, n)\n",
        "    unstacked_matrices = np.moveaxis(back_projected_points, -1, 0)  # Move the last axis to the first\n",
        "\n",
        "    # Now unstacked_matrices is of shape (n, 100, 100)\n",
        "    # You can unpack it into individual matrices\n",
        "    dimension_matrices = list(unstacked_matrices)\n",
        "\n",
        "    # Step 7: Set points outside the domain to NaN\n",
        "    # inside_mask = inside_mask_flat.reshape(X2.shape)  # Shape: (100, 100)\n",
        "    # back_projected_points[~inside_mask] = np.nan\n",
        "\n",
        "    # The result is a 3D array where each layer along the last axis represents one dimension in hyperspace\n",
        "    return dimension_matrices\n",
        "\n",
        "# Calculate Euclidean distance\n",
        "def euclidean_distance(vector1, vector2):\n",
        "    return torch.norm(vector1 - vector2)\n",
        "\n",
        "# Assuming stacked_samples is already defined from the previous code\n",
        "distance = euclidean_distance(stacked_samples[0], stacked_samples[1])\n",
        "\n",
        "print(f\"Euclidean distance between the two vectors: {distance}\")\n",
        "\n",
        "\n",
        "# Example usage\n",
        "domain = get_square_slice_from_two_anchors(stacked_samples,pad_dist=int(distance/2),seed=42).detach().numpy()\n",
        "# domain = np.array([\n",
        "#     [0.2572, 0.7355, 1.1020],\n",
        "#     [1.5166, -1.7285, 0.5166],\n",
        "#     [-0.7304, -2.5139, -1.0113],\n",
        "#     [-1.9897, -0.0499, -0.4259],\n",
        "#     [0.2572, 0.7355, 1.1020]  # Closing the polygon\n",
        "# ])\n",
        "\n",
        "grid_points = create_2d_arrays_for_hyperspace(domain)\n",
        "\n",
        "print(\"Shape of the final 2D stacked array:\", len(grid_points))\n"
      ],
      "metadata": {
        "colab": {
          "base_uri": "https://localhost:8080/"
        },
        "id": "qgBLM3mnV0xt",
        "outputId": "1d13a065-7726-4d6e-bd03-e81bccea8a7e"
      },
      "execution_count": null,
      "outputs": [
        {
          "output_type": "stream",
          "name": "stdout",
          "text": [
            "Euclidean distance between the two vectors: 22.521848678588867\n",
            "Shape of the final 2D stacked array: 784\n"
          ]
        }
      ]
    },
    {
      "cell_type": "markdown",
      "source": [
        "For an extra 3"
      ],
      "metadata": {
        "id": "2houuCB9gyw-"
      }
    },
    {
      "cell_type": "code",
      "source": [
        "import torch\n",
        "\n",
        "def get_square_domain_from_three_anchors(anchors, pad_dist=1, seed=-1):\n",
        "    if seed != -1:\n",
        "        torch.manual_seed(seed)\n",
        "\n",
        "    assert len(anchors) == 3\n",
        "\n",
        "    # Compute the centroid of the anchors\n",
        "    centroid = torch.mean(anchors, dim=0)\n",
        "\n",
        "    # Vectors in the plane defined by the anchors\n",
        "    u1 = anchors[1] - anchors[0]\n",
        "    u2 = anchors[2] - anchors[0]\n",
        "\n",
        "    # Orthonormalize u1 and u2 using the Gram-Schmidt process\n",
        "    u1 = u1 / torch.linalg.norm(u1)\n",
        "    u2 = u2 - torch.dot(u2, u1) * u1\n",
        "    u2_norm = torch.linalg.norm(u2)\n",
        "    if u2_norm < 1e-8:\n",
        "        # If u2 is nearly zero vector after orthogonalization, generate a random vector orthogonal to u1\n",
        "        u2 = torch.randn_like(u1)\n",
        "        u2 = u2 - torch.dot(u2, u1) * u1\n",
        "        u2_norm = torch.linalg.norm(u2)\n",
        "    u2 = u2 / u2_norm\n",
        "\n",
        "    # Directions (orthonormal basis) in the plane\n",
        "    dirs = torch.stack([u1, u2])\n",
        "\n",
        "    # Project the anchors onto the plane's coordinate system\n",
        "    projections = (anchors - centroid) @ dirs.T  # Shape: (3, 2)\n",
        "\n",
        "    # Find min and max projections along each direction\n",
        "    min_proj = projections.min(dim=0).values - pad_dist\n",
        "    max_proj = projections.max(dim=0).values + pad_dist\n",
        "\n",
        "    # Adjust the ranges to make the domain a square\n",
        "    ranges = max_proj - min_proj\n",
        "    max_range = torch.max(ranges)\n",
        "    for i in range(2):\n",
        "        if ranges[i] < max_range:\n",
        "            delta = max_range - ranges[i]\n",
        "            min_proj[i] -= delta / 2\n",
        "            max_proj[i] += delta / 2\n",
        "\n",
        "    # Construct the square domain corners in the projection plane\n",
        "    corners_proj = torch.tensor([\n",
        "        [min_proj[0], min_proj[1]],\n",
        "        [min_proj[0], max_proj[1]],\n",
        "        [max_proj[0], max_proj[1]],\n",
        "        [max_proj[0], min_proj[1]]\n",
        "    ])\n",
        "\n",
        "    # Map the corners back to the original hyperdimensional space\n",
        "    corners = centroid + corners_proj @ dirs\n",
        "\n",
        "    # Close the polygon by appending the first corner at the end\n",
        "    domain_poly = torch.vstack([corners, corners[0].unsqueeze(0)])\n",
        "\n",
        "    return domain_poly\n"
      ],
      "metadata": {
        "id": "TG_nSOz2qHMf"
      },
      "execution_count": null,
      "outputs": []
    },
    {
      "cell_type": "code",
      "source": [
        "samples2 = samples.copy()\n",
        "samples2.append(stacked_other_samples[0])\n",
        "stacked_three_samples = torch.stack(samples2)"
      ],
      "metadata": {
        "id": "Ji7HGrp-WplU"
      },
      "execution_count": null,
      "outputs": []
    },
    {
      "cell_type": "code",
      "source": [
        "stacked_three_samples"
      ],
      "metadata": {
        "colab": {
          "base_uri": "https://localhost:8080/"
        },
        "id": "JU_w9ioEi7vq",
        "outputId": "b606ebd8-2873-4d38-9a08-1cd5f6259236"
      },
      "execution_count": null,
      "outputs": [
        {
          "output_type": "execute_result",
          "data": {
            "text/plain": [
              "tensor([[-1., -1., -1.,  ..., -1., -1., -1.],\n",
              "        [-1., -1., -1.,  ..., -1., -1., -1.],\n",
              "        [-1., -1., -1.,  ..., -1., -1., -1.]])"
            ]
          },
          "metadata": {},
          "execution_count": 49
        }
      ]
    },
    {
      "cell_type": "code",
      "source": [
        "domain"
      ],
      "metadata": {
        "colab": {
          "base_uri": "https://localhost:8080/"
        },
        "id": "ktjX7LKlo7yY",
        "outputId": "632cefd9-2a88-466a-d429-cca013c44caa"
      },
      "execution_count": null,
      "outputs": [
        {
          "output_type": "execute_result",
          "data": {
            "text/plain": [
              "array([[-1.        , -1.        , -1.        , ..., -1.        ,\n",
              "        -1.        , -1.        ],\n",
              "       [-0.241727  , -0.41472918, -0.6455529 , ..., -0.69728035,\n",
              "        -1.3017849 , -1.3736386 ],\n",
              "       [-1.        , -1.        , -1.        , ..., -1.        ,\n",
              "        -1.        , -1.        ],\n",
              "       [-1.758273  , -1.5852709 , -1.3544471 , ..., -1.3027196 ,\n",
              "        -0.6982151 , -0.6263613 ],\n",
              "       [-1.        , -1.        , -1.        , ..., -1.        ,\n",
              "        -1.        , -1.        ]], dtype=float32)"
            ]
          },
          "metadata": {},
          "execution_count": 61
        }
      ]
    },
    {
      "cell_type": "code",
      "source": [
        "distance"
      ],
      "metadata": {
        "colab": {
          "base_uri": "https://localhost:8080/"
        },
        "id": "m-Dv4cx1kVOJ",
        "outputId": "1f6fa300-6b1e-49cf-a170-cbc34ca46ca1"
      },
      "execution_count": null,
      "outputs": [
        {
          "output_type": "execute_result",
          "data": {
            "text/plain": [
              "tensor(22.5218)"
            ]
          },
          "metadata": {},
          "execution_count": 50
        }
      ]
    },
    {
      "cell_type": "code",
      "source": [
        "# Assuming stacked_samples is already defined from the previous code\n",
        "distance = euclidean_distance(stacked_samples[0], stacked_samples[1])\n",
        "domain = get_square_domain_from_three_anchors(stacked_three_samples,pad_dist=int(distance*2/3),seed=42).detach().numpy()\n",
        "\n",
        "grid_points = create_2d_arrays_for_hyperspace(domain)\n",
        "\n",
        "print(\"Shape of the final 2D stacked array:\", len(grid_points))"
      ],
      "metadata": {
        "colab": {
          "base_uri": "https://localhost:8080/"
        },
        "id": "0zLkZ6uYV8l9",
        "outputId": "48114fad-bdd8-4ae5-e9fe-8d24fe127443"
      },
      "execution_count": null,
      "outputs": [
        {
          "output_type": "stream",
          "name": "stdout",
          "text": [
            "Shape of the final 2D stacked array: 784\n"
          ]
        }
      ]
    },
    {
      "cell_type": "code",
      "source": [
        "model_dict_ls = [np.array(ls.cpu()) for ls in list(model.state_dict().values())]\n",
        "Z = fn(np.array(grid_points),model_dict_ls,0)[0]"
      ],
      "metadata": {
        "id": "Vo2m4pHWaLwq"
      },
      "execution_count": null,
      "outputs": []
    },
    {
      "cell_type": "code",
      "source": [
        "len(Z[Z>0.9])"
      ],
      "metadata": {
        "colab": {
          "base_uri": "https://localhost:8080/"
        },
        "id": "DnCBnd5rgVXX",
        "outputId": "59b564b4-46bc-465c-99bc-37df06a030e1"
      },
      "execution_count": null,
      "outputs": [
        {
          "output_type": "execute_result",
          "data": {
            "text/plain": [
              "9542"
            ]
          },
          "metadata": {},
          "execution_count": 53
        }
      ]
    },
    {
      "cell_type": "code",
      "source": [
        "# Step 1: Compute the projection matrix and translation vector\n",
        "P, x0 = get_proj_mat(domain)  # P: (2, n), x0: (n,)\n",
        "\n",
        "# Step 2: Project the domain to 2D\n",
        "domain_2d = project_points(domain, P, x0)  # Shape: (m, 2)\n",
        "\n",
        "# Step 3: Create a 2D grid in the projected space\n",
        "x_min, x_max = domain_2d[:, 0].min(), domain_2d[:, 0].max()\n",
        "y_min, y_max = domain_2d[:, 1].min(), domain_2d[:, 1].max()\n",
        "x2 = np.linspace(x_min, x_max, 100)\n",
        "y2 = np.linspace(y_min, y_max, 100)\n",
        "X2, Y2 = np.meshgrid(x2, y2)  # Shapes: (100, 100)\n",
        "\n",
        "\n",
        "\n",
        "# Define the labeled points\n",
        "labeled_points = {\n",
        "    \"3\": np.array(stacked_three_samples[0].detach().numpy()),\n",
        "    \"3_2nd\": np.array(stacked_three_samples[2].detach().numpy()),\n",
        "    \"2\": np.array(stacked_three_samples[1].detach().numpy()),\n",
        "}\n",
        "\n",
        "# Project the labeled points to 2D\n",
        "projected_labeled_points = {label: project_points(point[None, :], P, x0)[0] for label, point in labeled_points.items()}\n",
        "\n",
        "# Plot the contour for activation value 0.5\n",
        "plt.figure(figsize=(10, 6))\n",
        "contour = plt.contour(X2, Y2, Z, levels=[0.5], colors='red', linewidths=2)\n",
        "\n",
        "# Plot the labeled points\n",
        "for label, point in projected_labeled_points.items():\n",
        "    if label in [\"3\" ,\"3_2nd\"]:\n",
        "        plt.scatter(point[0], point[1], color='blue', label=label, s=100)  # Blue for inside\n",
        "    elif label == \"2\":\n",
        "        plt.scatter(point[0], point[1], color='green', label=label, s=100)  # Green for outside\n",
        "\n",
        "# Add labels, title, and legend\n",
        "plt.xlabel('Feature 1 (Projected Dimension 1)')\n",
        "plt.ylabel('Feature 2 (Projected Dimension 2)')\n",
        "plt.title('Contour Plot for Activation Value 0.5 with Labeled Points')\n",
        "plt.legend()\n",
        "plt.grid()\n",
        "plt.show()\n"
      ],
      "metadata": {
        "colab": {
          "base_uri": "https://localhost:8080/",
          "height": 564
        },
        "id": "tsY81xLnY_Gs",
        "outputId": "47da25e6-89f6-4c78-c16a-83520f3e1691"
      },
      "execution_count": null,
      "outputs": [
        {
          "output_type": "display_data",
          "data": {
            "text/plain": [
              "<Figure size 1000x600 with 1 Axes>"
            ],
            "image/png": "[encoded data removed]"
          },
          "metadata": {}
        }
      ]
    },
    {
      "cell_type": "code",
      "source": [
        "model(stacked_three_samples[0].unsqueeze(0))"
      ],
      "metadata": {
        "colab": {
          "base_uri": "https://localhost:8080/"
        },
        "id": "1pUEISZsjksm",
        "outputId": "407e8fe2-deff-4cf0-d88d-0d60dc09098b"
      },
      "execution_count": null,
      "outputs": [
        {
          "output_type": "execute_result",
          "data": {
            "text/plain": [
              "tensor([[1.0000]], grad_fn=<SigmoidBackward0>)"
            ]
          },
          "metadata": {},
          "execution_count": 26
        }
      ]
    },
    {
      "cell_type": "code",
      "source": [
        "model(stacked_three_samples[2].unsqueeze(0))"
      ],
      "metadata": {
        "colab": {
          "base_uri": "https://localhost:8080/"
        },
        "id": "N5Wi24rCj3BR",
        "outputId": "9f8943d5-0044-442e-94b8-6fdca50c28ce"
      },
      "execution_count": null,
      "outputs": [
        {
          "output_type": "execute_result",
          "data": {
            "text/plain": [
              "tensor([[1.0000]], grad_fn=<SigmoidBackward0>)"
            ]
          },
          "metadata": {},
          "execution_count": 27
        }
      ]
    },
    {
      "cell_type": "code",
      "source": [
        "model(stacked_three_samples[1].unsqueeze(0))"
      ],
      "metadata": {
        "colab": {
          "base_uri": "https://localhost:8080/"
        },
        "id": "pjwJ7rxNj6lI",
        "outputId": "cc8a5b6f-d0b9-4ebd-d9d5-a81ecb9de0a5"
      },
      "execution_count": null,
      "outputs": [
        {
          "output_type": "execute_result",
          "data": {
            "text/plain": [
              "tensor([[0.0004]], grad_fn=<SigmoidBackward0>)"
            ]
          },
          "metadata": {},
          "execution_count": 28
        }
      ]
    },
    {
      "cell_type": "code",
      "source": [
        "samples.pop()\n",
        "samples.append(stacked_samples[0])\n",
        "stacked_three_samples2 = torch.stack(samples)"
      ],
      "metadata": {
        "id": "gM-Ofzaug5vq"
      },
      "execution_count": null,
      "outputs": []
    },
    {
      "cell_type": "code",
      "source": [
        "# Step 1: Compute the projection matrix and translation vector\n",
        "P, x0 = get_proj_mat(domain)  # P: (2, n), x0: (n,)\n",
        "\n",
        "# Step 2: Project the domain to 2D\n",
        "domain_2d = project_points(domain, P, x0)  # Shape: (m, 2)\n",
        "\n",
        "# Step 3: Create a 2D grid in the projected space\n",
        "x_min, x_max = domain_2d[:, 0].min(), domain_2d[:, 0].max()\n",
        "y_min, y_max = domain_2d[:, 1].min(), domain_2d[:, 1].max()\n",
        "x2 = np.linspace(x_min, x_max, 100)\n",
        "y2 = np.linspace(y_min, y_max, 100)\n",
        "X2, Y2 = np.meshgrid(x2, y2)  # Shapes: (100, 100)\n",
        "\n",
        "\n",
        "\n",
        "# Define the labeled points\n",
        "labeled_points = {\n",
        "    \"3\": np.array(stacked_samples[0].detach().numpy()),\n",
        "    \"3_2nd\": np.array(stacked_other_samples[0].detach().numpy()),\n",
        "    \"2\": np.array(stacked_samples[1].detach().numpy()),\n",
        "}\n",
        "\n",
        "# Project the labeled points to 2D\n",
        "projected_labeled_points = {label: project_points(point[None, :], P, x0)[0] for label, point in labeled_points.items()}\n",
        "\n",
        "# Plot the contour for activation value 0.5\n",
        "plt.figure(figsize=(10, 6))\n",
        "contour = plt.contour(X2, Y2, Z, levels=[0.5], colors='red', linewidths=2)\n",
        "\n",
        "# Plot the labeled points\n",
        "for label, point in projected_labeled_points.items():\n",
        "    if label in [\"3\" ,\"3_2nd\"]:\n",
        "        plt.scatter(point[0], point[1], color='blue', label=label, s=100)  # Blue for inside\n",
        "    elif label == \"2\":\n",
        "        plt.scatter(point[0], point[1], color='green', label=label, s=100)  # Green for outside\n",
        "\n",
        "# Add labels, title, and legend\n",
        "plt.xlabel('Feature 1 (Projected Dimension 1)')\n",
        "plt.ylabel('Feature 2 (Projected Dimension 2)')\n",
        "plt.title('Contour Plot for Activation Value 0.5 with Labeled Points')\n",
        "plt.legend()\n",
        "plt.grid()\n",
        "plt.show()\n"
      ],
      "metadata": {
        "colab": {
          "base_uri": "https://localhost:8080/",
          "height": 564
        },
        "id": "9GknXH-3S4M4",
        "outputId": "54ee42f2-2cb6-402f-bf12-8ab1f36dac08"
      },
      "execution_count": null,
      "outputs": [
        {
          "output_type": "display_data",
          "data": {
            "text/plain": [
              "<Figure size 1000x600 with 1 Axes>"
            ],
            "image/png": "[encoded data removed]"
          },
          "metadata": {}
        }
      ]
    },
    {
      "cell_type": "code",
      "source": [
        "# Step 1: Compute the projection matrix and translation vector\n",
        "P, x0 = get_proj_mat(domain)  # P: (2, n), x0: (n,)\n",
        "\n",
        "# Step 2: Project the domain to 2D\n",
        "domain_2d = project_points(domain, P, x0)  # Shape: (m, 2)\n",
        "\n",
        "# Step 3: Create a 2D grid in the projected space\n",
        "x_min, x_max = domain_2d[:, 0].min(), domain_2d[:, 0].max()\n",
        "y_min, y_max = domain_2d[:, 1].min(), domain_2d[:, 1].max()\n",
        "x2 = np.linspace(x_min, x_max, 100)\n",
        "y2 = np.linspace(y_min, y_max, 100)\n",
        "X2, Y2 = np.meshgrid(x2, y2)  # Shapes: (100, 100)\n",
        "\n",
        "\n",
        "\n",
        "# Define the labeled points\n",
        "labeled_points = {\n",
        "    \"class A\": np.array(stacked_samples[0].detach().numpy()),\n",
        "    \"class B\": np.array(stacked_samples[1].detach().numpy()),\n",
        "}\n",
        "\n",
        "# Project the labeled points to 2D\n",
        "projected_labeled_points = {label: project_points(point[None, :], P, x0)[0] for label, point in labeled_points.items()}\n",
        "\n",
        "# Plot the contour for activation value 0.5\n",
        "plt.figure(figsize=(10, 6))\n",
        "contour = plt.contour(X2, Y2, Z, levels=[0.5], colors='red', linewidths=2)\n",
        "\n",
        "# Plot the labeled points\n",
        "for label, point in projected_labeled_points.items():\n",
        "    if label == \"class A\":\n",
        "        plt.scatter(point[0], point[1], color='blue', label=label, s=100)  # Blue for inside\n",
        "    elif label == \"class B\":\n",
        "        plt.scatter(point[0], point[1], color='green', label=label, s=100)  # Green for outside\n",
        "\n",
        "# Add labels, title, and legend\n",
        "plt.xlabel('Feature 1 (Projected Dimension 1)')\n",
        "plt.ylabel('Feature 2 (Projected Dimension 2)')\n",
        "plt.title('Contour Plot for Activation Value 0.5 with Labeled Points')\n",
        "plt.legend()\n",
        "plt.grid()\n",
        "plt.show()\n"
      ],
      "metadata": {
        "colab": {
          "base_uri": "https://localhost:8080/",
          "height": 564
        },
        "id": "g7kNM5D-Ejrc",
        "outputId": "9f6f68d6-44f7-4d1e-af9d-b4eb961221a6"
      },
      "execution_count": null,
      "outputs": [
        {
          "output_type": "display_data",
          "data": {
            "text/plain": [
              "<Figure size 1000x600 with 1 Axes>"
            ],
            "image/png": "[encoded data removed]"
          },
          "metadata": {}
        }
      ]
    },
    {
      "cell_type": "code",
      "source": [
        "# Step 1: Compute the projection matrix and translation vector\n",
        "P, x0 = get_proj_mat(domain)  # P: (2, n), x0: (n,)\n",
        "\n",
        "# Step 2: Project the domain to 2D\n",
        "domain_2d = project_points(domain, P, x0)  # Shape: (m, 2)\n",
        "\n",
        "# Step 3: Create a 2D grid in the projected space\n",
        "x_min, x_max = domain_2d[:, 0].min(), domain_2d[:, 0].max()\n",
        "y_min, y_max = domain_2d[:, 1].min(), domain_2d[:, 1].max()\n",
        "x2 = np.linspace(x_min, x_max, 100)\n",
        "y2 = np.linspace(y_min, y_max, 100)\n",
        "X2, Y2 = np.meshgrid(x2, y2)  # Shapes: (100, 100)\n",
        "\n",
        "\n",
        "\n",
        "# Define the labeled points\n",
        "labeled_points = {\n",
        "    \"3\": np.array(stacked_three_samples[0].detach().numpy()),\n",
        "    \"3_2nd\": np.array(stacked_three_samples[2].detach().numpy()),\n",
        "    \"2\": np.array(stacked_three_samples[1].detach().numpy()),\n",
        "}\n",
        "\n",
        "# Project the labeled points to 2D\n",
        "projected_labeled_points = {label: project_points(point[None, :], P, x0)[0] for label, point in labeled_points.items()}\n",
        "\n",
        "# Plot the contour for activation value 0.5\n",
        "plt.figure(figsize=(10, 6))\n",
        "contour = plt.contour(X2, Y2, Z, levels=[0.5], colors='red', linewidths=2)\n",
        "\n",
        "# Plot the labeled points\n",
        "for label, point in projected_labeled_points.items():\n",
        "    if label in [\"3\" ,\"3_2nd\"]:\n",
        "        plt.scatter(point[0], point[1], color='blue', label=label, s=100)  # Blue for inside\n",
        "    elif label == \"2\":\n",
        "        plt.scatter(point[0], point[1], color='green', label=label, s=100)  # Green for outside\n",
        "\n",
        "# Add labels, title, and legend\n",
        "plt.xlabel('Feature 1 (Projected Dimension 1)')\n",
        "plt.ylabel('Feature 2 (Projected Dimension 2)')\n",
        "plt.title('Contour Plot for Activation Value 0.5 with Labeled Points')\n",
        "plt.legend()\n",
        "plt.grid()\n",
        "plt.show()\n"
      ],
      "metadata": {
        "colab": {
          "base_uri": "https://localhost:8080/",
          "height": 564
        },
        "id": "8ZVFWKCCno5r",
        "outputId": "4dee849e-095d-4eca-d266-d9fadf8e4b98"
      },
      "execution_count": null,
      "outputs": [
        {
          "output_type": "display_data",
          "data": {
            "text/plain": [
              "<Figure size 1000x600 with 1 Axes>"
            ],
            "image/png": "[encoded data removed]"
          },
          "metadata": {}
        }
      ]
    },
    {
      "cell_type": "code",
      "source": [
        "# prompt: SAVE MODEL\n",
        "\n",
        "torch.save(model.state_dict(), '/content/MNIST_non_downsample_model.pth')"
      ],
      "metadata": {
        "id": "dxKwEPbvh-J8"
      },
      "execution_count": null,
      "outputs": []
    },
    {
      "cell_type": "code",
      "source": [
        "# prompt: load model\n",
        "\n",
        "# Load the saved model state dictionary\n",
        "model.load_state_dict(torch.load('/content/MNIST_non_downsample_model.pth'))\n",
        "\n",
        "# Set the model to evaluation mode\n",
        "model.eval()"
      ],
      "metadata": {
        "colab": {
          "base_uri": "https://localhost:8080/"
        },
        "id": "8JYmd-iBM-hB",
        "outputId": "99118df5-fc62-4203-fb7c-f32bc1d87eb6"
      },
      "execution_count": null,
      "outputs": [
        {
          "output_type": "stream",
          "name": "stderr",
          "text": [
            "<ipython-input-13-0bf2535cdfc2>:4: FutureWarning: You are using `torch.load` with `weights_only=False` (the current default value), which uses the default pickle module implicitly. It is possible to construct malicious pickle data which will execute arbitrary code during unpickling (See https://github.com/pytorch/pytorch/blob/main/SECURITY.md#untrusted-models for more details). In a future release, the default value for `weights_only` will be flipped to `True`. This limits the functions that could be executed during unpickling. Arbitrary objects will no longer be allowed to be loaded via this mode unless they are explicitly allowlisted by the user via `torch.serialization.add_safe_globals`. We recommend you start setting `weights_only=True` for any use case where you don't have full control of the loaded file. Please open an issue on GitHub for any issues related to this experimental feature.\n",
            "  model.load_state_dict(torch.load('/content/MNIST_non_downsample_model.pth'))\n"
          ]
        },
        {
          "output_type": "execute_result",
          "data": {
            "text/plain": [
              "MNISTClassifier(\n",
              "  (fc1): Linear(in_features=784, out_features=128, bias=True)\n",
              "  (silu): SiLU()\n",
              "  (fc2): Linear(in_features=128, out_features=1, bias=True)\n",
              "  (sigmoid): Sigmoid()\n",
              ")"
            ]
          },
          "metadata": {},
          "execution_count": 13
        }
      ]
    },
    {
      "cell_type": "code",
      "source": [],
      "metadata": {
        "id": "AtLgzyldN1Jt"
      },
      "execution_count": null,
      "outputs": []
    }
  ]
}