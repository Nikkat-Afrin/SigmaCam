{
  "nbformat": 4,
  "nbformat_minor": 0,
  "metadata": {
    "colab": {
      "provenance": [],
      "gpuType": "T4"
    },
    "kernelspec": {
      "name": "python3",
      "display_name": "Python 3"
    },
    "language_info": {
      "name": "python"
    },
    "accelerator": "GPU"
  },
  "cells": [
    {
      "cell_type": "code",
      "source": [
        "pip install medmnist"
      ],
      "metadata": {
        "colab": {
          "base_uri": "https://localhost:8080/"
        },
        "id": "UO-eRPhcwwJv",
        "outputId": "7f8a8d79-7ed9-4434-838b-604cf0cb1918"
      },
      "execution_count": null,
      "outputs": [
        {
          "output_type": "stream",
          "name": "stdout",
          "text": [
            "Collecting medmnist\n",
            "  Downloading medmnist-3.0.2-py3-none-any.whl.metadata (14 kB)\n",
            "Requirement already satisfied: numpy in /usr/local/lib/python3.10/dist-packages (from medmnist) (1.26.4)\n",
            "Requirement already satisfied: pandas in /usr/local/lib/python3.10/dist-packages (from medmnist) (2.2.2)\n",
            "Requirement already satisfied: scikit-learn in /usr/local/lib/python3.10/dist-packages (from medmnist) (1.5.2)\n",
            "Requirement already satisfied: scikit-image in /usr/local/lib/python3.10/dist-packages (from medmnist) (0.24.0)\n",
            "Requirement already satisfied: tqdm in /usr/local/lib/python3.10/dist-packages (from medmnist) (4.66.6)\n",
            "Requirement already satisfied: Pillow in /usr/local/lib/python3.10/dist-packages (from medmnist) (11.0.0)\n",
            "Collecting fire (from medmnist)\n",
            "  Downloading fire-0.7.0.tar.gz (87 kB)\n",
            "\u001b[2K     \u001b[90m━━━━━━━━━━━━━━━━━━━━━━━━━━━━━━━━━━━━━━━━\u001b[0m \u001b[32m87.2/87.2 kB\u001b[0m \u001b[31m6.2 MB/s\u001b[0m eta \u001b[36m0:00:00\u001b[0m\n",
            "\u001b[?25h  Preparing metadata (setup.py) ... \u001b[?25l\u001b[?25hdone\n",
            "Requirement already satisfied: torch in /usr/local/lib/python3.10/dist-packages (from medmnist) (2.5.1+cu121)\n",
            "Requirement already satisfied: torchvision in /usr/local/lib/python3.10/dist-packages (from medmnist) (0.20.1+cu121)\n",
            "Requirement already satisfied: termcolor in /usr/local/lib/python3.10/dist-packages (from fire->medmnist) (2.5.0)\n",
            "Requirement already satisfied: python-dateutil>=2.8.2 in /usr/local/lib/python3.10/dist-packages (from pandas->medmnist) (2.8.2)\n",
            "Requirement already satisfied: pytz>=2020.1 in /usr/local/lib/python3.10/dist-packages (from pandas->medmnist) (2024.2)\n",
            "Requirement already satisfied: tzdata>=2022.7 in /usr/local/lib/python3.10/dist-packages (from pandas->medmnist) (2024.2)\n",
            "Requirement already satisfied: scipy>=1.9 in /usr/local/lib/python3.10/dist-packages (from scikit-image->medmnist) (1.13.1)\n",
            "Requirement already satisfied: networkx>=2.8 in /usr/local/lib/python3.10/dist-packages (from scikit-image->medmnist) (3.4.2)\n",
            "Requirement already satisfied: imageio>=2.33 in /usr/local/lib/python3.10/dist-packages (from scikit-image->medmnist) (2.36.0)\n",
            "Requirement already satisfied: tifffile>=2022.8.12 in /usr/local/lib/python3.10/dist-packages (from scikit-image->medmnist) (2024.9.20)\n",
            "Requirement already satisfied: packaging>=21 in /usr/local/lib/python3.10/dist-packages (from scikit-image->medmnist) (24.2)\n",
            "Requirement already satisfied: lazy-loader>=0.4 in /usr/local/lib/python3.10/dist-packages (from scikit-image->medmnist) (0.4)\n",
            "Requirement already satisfied: joblib>=1.2.0 in /usr/local/lib/python3.10/dist-packages (from scikit-learn->medmnist) (1.4.2)\n",
            "Requirement already satisfied: threadpoolctl>=3.1.0 in /usr/local/lib/python3.10/dist-packages (from scikit-learn->medmnist) (3.5.0)\n",
            "Requirement already satisfied: filelock in /usr/local/lib/python3.10/dist-packages (from torch->medmnist) (3.16.1)\n",
            "Requirement already satisfied: typing-extensions>=4.8.0 in /usr/local/lib/python3.10/dist-packages (from torch->medmnist) (4.12.2)\n",
            "Requirement already satisfied: jinja2 in /usr/local/lib/python3.10/dist-packages (from torch->medmnist) (3.1.4)\n",
            "Requirement already satisfied: fsspec in /usr/local/lib/python3.10/dist-packages (from torch->medmnist) (2024.10.0)\n",
            "Requirement already satisfied: sympy==1.13.1 in /usr/local/lib/python3.10/dist-packages (from torch->medmnist) (1.13.1)\n",
            "Requirement already satisfied: mpmath<1.4,>=1.1.0 in /usr/local/lib/python3.10/dist-packages (from sympy==1.13.1->torch->medmnist) (1.3.0)\n",
            "Requirement already satisfied: six>=1.5 in /usr/local/lib/python3.10/dist-packages (from python-dateutil>=2.8.2->pandas->medmnist) (1.16.0)\n",
            "Requirement already satisfied: MarkupSafe>=2.0 in /usr/local/lib/python3.10/dist-packages (from jinja2->torch->medmnist) (3.0.2)\n",
            "Downloading medmnist-3.0.2-py3-none-any.whl (25 kB)\n",
            "Building wheels for collected packages: fire\n",
            "  Building wheel for fire (setup.py) ... \u001b[?25l\u001b[?25hdone\n",
            "  Created wheel for fire: filename=fire-0.7.0-py3-none-any.whl size=114249 sha256=d4aa8bae42c5b7aa8cf6a04355375547c5af4611056e333316b723acb0df1875\n",
            "  Stored in directory: /root/.cache/pip/wheels/19/39/2f/2d3cadc408a8804103f1c34ddd4b9f6a93497b11fa96fe738e\n",
            "Successfully built fire\n",
            "Installing collected packages: fire, medmnist\n",
            "Successfully installed fire-0.7.0 medmnist-3.0.2\n"
          ]
        }
      ]
    },
    {
      "cell_type": "code",
      "source": [
        "import os\n",
        "import torch\n",
        "from torch.utils.data import DataLoader, Subset\n",
        "from torchvision import transforms\n",
        "from medmnist import PneumoniaMNIST, BreastMNIST\n",
        "import torch.nn as nn\n",
        "import torch.optim as optim\n",
        "import matplotlib.pyplot as plt\n",
        "\n",
        "# Dataset selection\n",
        "# To switch between datasets, replace 'PneumoniaMNIST' with 'BreastMNIST'\n",
        "DatasetClass = PneumoniaMNIST  # Use BreastMNIST for the other dataset\n",
        "\n",
        "# Transform pipeline\n",
        "transform = transforms.Compose([\n",
        "    transforms.ToTensor(),\n",
        "    transforms.Normalize(mean=[0.5], std=[0.5])  # Normalization for grayscale images\n",
        "])\n",
        "\n",
        "# Create the data directory if it doesn't exist\n",
        "data_dir = \"./data\"\n",
        "if not os.path.exists(data_dir):\n",
        "    os.makedirs(data_dir)\n",
        "\n",
        "# Load the dataset, specifying the data directory\n",
        "train_full = DatasetClass(split=\"train\", transform=transform, download=True, root=data_dir)\n",
        "test_full = DatasetClass(split=\"test\", transform=transform, download=True, root=data_dir)\n",
        "\n",
        "# Filter for binary classification (already binary for these datasets)\n",
        "def filter_binary_classes(dataset):\n",
        "    indices = [i for i, (image, label) in enumerate(dataset) if label in [0, 1]]\n",
        "    return Subset(dataset, indices)\n",
        "\n",
        "# Relabel binary classes (labels are already 0 and 1, so this step is redundant but included for consistency)\n",
        "def relabel_binary_classes(dataset):\n",
        "    for i, (image, label) in enumerate(dataset):\n",
        "        dataset.dataset.labels[dataset.indices[i]] = int(label in [1])\n",
        "\n",
        "train_filtered = filter_binary_classes(train_full)\n",
        "test_filtered = filter_binary_classes(test_full)\n",
        "\n",
        "relabel_binary_classes(train_filtered)\n",
        "relabel_binary_classes(test_filtered)\n",
        "\n",
        "# DataLoaders\n",
        "train_loader = DataLoader(train_filtered, batch_size=64, shuffle=True)\n",
        "test_loader = DataLoader(test_filtered, batch_size=64, shuffle=False)\n",
        "\n",
        "# Define the binary classification model\n",
        "class MedMNISTClassifier(nn.Module):\n",
        "    def __init__(self, n_channels):\n",
        "        super(MedMNISTClassifier, self).__init__()\n",
        "        self.fc1 = nn.Linear(n_channels * 28 * 28, 50)\n",
        "        self.silu = nn.SiLU()\n",
        "        self.fc2 = nn.Linear(50, 50)\n",
        "        self.fc3 = nn.Linear(50, 1)  # Binary output\n",
        "        self.sigmoid = nn.Sigmoid()\n",
        "\n",
        "    def forward(self, x):\n",
        "        x = x.view(x.size(0), -1)  # Flatten the images\n",
        "        x = self.fc1(x)\n",
        "        x = self.silu(x)\n",
        "        x = self.fc2(x)\n",
        "        x = self.silu(x)\n",
        "        x = self.fc3(x)\n",
        "        x = self.sigmoid(x)\n",
        "        return x\n",
        "\n",
        "# Instantiate model, criterion, and optimizer\n",
        "model = MedMNISTClassifier(n_channels=1)  # 1 channel for grayscale images\n",
        "criterion = nn.BCELoss()\n",
        "optimizer = optim.Adam(model.parameters(), lr=0.001)"
      ],
      "metadata": {
        "colab": {
          "base_uri": "https://localhost:8080/"
        },
        "id": "mesCRcL4WR-C",
        "outputId": "12e3ba43-a8a6-48e2-c10c-443a5b29a2ae"
      },
      "execution_count": null,
      "outputs": [
        {
          "output_type": "stream",
          "name": "stdout",
          "text": [
            "Downloading https://zenodo.org/records/10519652/files/pneumoniamnist.npz?download=1 to ./data/pneumoniamnist.npz\n"
          ]
        },
        {
          "output_type": "stream",
          "name": "stderr",
          "text": [
            "100%|██████████| 4.17M/4.17M [00:01<00:00, 3.62MB/s]\n"
          ]
        },
        {
          "output_type": "stream",
          "name": "stdout",
          "text": [
            "Using downloaded and verified file: ./data/pneumoniamnist.npz\n"
          ]
        }
      ]
    },
    {
      "cell_type": "code",
      "source": [
        "\n",
        "# Training loop\n",
        "def train(model, loader, criterion, optimizer, epochs=10):\n",
        "    for epoch in range(epochs):\n",
        "        model.train()\n",
        "        running_loss = 0.0\n",
        "        for images, labels in loader:\n",
        "            labels = labels.float().unsqueeze(1)  # Convert to float and add a single dimension\n",
        "            labels = labels.view(-1, 1)  # Ensure labels have shape [batch_size, 1]\n",
        "            optimizer.zero_grad()\n",
        "            outputs = model(images)\n",
        "            loss = criterion(outputs, labels)\n",
        "            loss.backward()\n",
        "            optimizer.step()\n",
        "            running_loss += loss.item()\n",
        "        print(f\"Epoch {epoch+1}/{epochs}, Loss: {running_loss/len(loader)}\")\n",
        "\n",
        "# Evaluation\n",
        "def evaluate(model, loader):\n",
        "    model.eval()\n",
        "    correct = 0\n",
        "    total = 0\n",
        "    with torch.no_grad():\n",
        "        for images, labels in loader:\n",
        "            labels = labels.float().unsqueeze(1)  # Convert to float and add a single dimension\n",
        "            labels = labels.view(-1, 1)  # Ensure labels have shape [batch_size, 1]\n",
        "            outputs = model(images)\n",
        "            predicted = (outputs > 0.5).float()\n",
        "            correct += (predicted == labels).sum().item()\n",
        "            total += labels.size(0)\n",
        "    print(f\"Accuracy: {100 * correct / total:.2f}%\")\n",
        "\n",
        "# Train and evaluate\n",
        "train(model, train_loader, criterion, optimizer, epochs=30)\n",
        "evaluate(model, test_loader)\n"
      ],
      "metadata": {
        "colab": {
          "base_uri": "https://localhost:8080/"
        },
        "id": "WGLxuh4QyIbs",
        "outputId": "0af674d0-132c-499a-ac6b-9846a2f8679f"
      },
      "execution_count": null,
      "outputs": [
        {
          "output_type": "stream",
          "name": "stdout",
          "text": [
            "Epoch 1/30, Loss: 0.2777812289627823\n",
            "Epoch 2/30, Loss: 0.13251152931637056\n",
            "Epoch 3/30, Loss: 0.11379790681137426\n",
            "Epoch 4/30, Loss: 0.10926342934269358\n",
            "Epoch 5/30, Loss: 0.10093951937616677\n",
            "Epoch 6/30, Loss: 0.09386319294571877\n",
            "Epoch 7/30, Loss: 0.09504014658867507\n",
            "Epoch 8/30, Loss: 0.08570504822843783\n",
            "Epoch 9/30, Loss: 0.08214359836829072\n",
            "Epoch 10/30, Loss: 0.07478425851897211\n",
            "Epoch 11/30, Loss: 0.07466032490687999\n",
            "Epoch 12/30, Loss: 0.06628465180511812\n",
            "Epoch 13/30, Loss: 0.06608201405411032\n",
            "Epoch 14/30, Loss: 0.060464776234348885\n",
            "Epoch 15/30, Loss: 0.06066660084635825\n",
            "Epoch 16/30, Loss: 0.05485550656511977\n",
            "Epoch 17/30, Loss: 0.05548743123025004\n",
            "Epoch 18/30, Loss: 0.05297775586085344\n",
            "Epoch 19/30, Loss: 0.045814038748299146\n",
            "Epoch 20/30, Loss: 0.043489300321812766\n",
            "Epoch 21/30, Loss: 0.05489468657587831\n",
            "Epoch 22/30, Loss: 0.04311777401488979\n",
            "Epoch 23/30, Loss: 0.03690155174086072\n",
            "Epoch 24/30, Loss: 0.04050600714981556\n",
            "Epoch 25/30, Loss: 0.030365384976706794\n",
            "Epoch 26/30, Loss: 0.028327449508061684\n",
            "Epoch 27/30, Loss: 0.03625329647597077\n",
            "Epoch 28/30, Loss: 0.02680241147597396\n",
            "Epoch 29/30, Loss: 0.021918506336373253\n",
            "Epoch 30/30, Loss: 0.024704497661504492\n",
            "Accuracy: 84.62%\n"
          ]
        }
      ]
    },
    {
      "cell_type": "code",
      "source": [
        "# save the model\n",
        "\n",
        "torch.save(model.state_dict(), '/content/PneumoniaMNIST_model_part1.pth')"
      ],
      "metadata": {
        "id": "6elDKiOQfWSx"
      },
      "execution_count": null,
      "outputs": []
    },
    {
      "cell_type": "markdown",
      "source": [
        "SiLU + Final layer Sigmoid"
      ],
      "metadata": {
        "id": "S4qrqaX3H9Xc"
      }
    },
    {
      "cell_type": "code",
      "source": [
        "def sigmoid(x):\n",
        "    return 1/(1+np.exp(-x))\n",
        "\n",
        "def fn(out_pre,model_dict_ls,li):\n",
        "    if li == len(model_dict_ls)/2:\n",
        "        return out_pre\n",
        "    out_cur = []\n",
        "    for i in range(len(model_dict_ls[2*li])):\n",
        "        x = 0\n",
        "        for j in range(len(out_pre)):\n",
        "            x = x + out_pre[j]*model_dict_ls[2*li][i][j]\n",
        "        if li == (len(model_dict_ls)/2)-1:\n",
        "            out_cur.append(sigmoid(x+model_dict_ls[2*li+1][i]))\n",
        "        else:\n",
        "            out_cur.append((x+model_dict_ls[2*li+1][i])*sigmoid(x+model_dict_ls[2*li+1][i]))\n",
        "    li+=1\n",
        "    return fn(np.array(out_cur),model_dict_ls,li)"
      ],
      "metadata": {
        "id": "am7jwCA9hXfn"
      },
      "execution_count": null,
      "outputs": []
    },
    {
      "cell_type": "markdown",
      "source": [
        "Helpers"
      ],
      "metadata": {
        "id": "X-bvsWlSIMqJ"
      }
    },
    {
      "cell_type": "code",
      "source": [
        "\n",
        "def get_square_slice_from_one_anchor(anchors,pad_dist=1,seed=None):\n",
        "    \"\"\"\n",
        "    Given one vector as an anchor, takes a randomly oriented slice with the anchor at the center\n",
        "    \"\"\"\n",
        "#     if seed is not None:\n",
        "#         torch.manual_seed(seed)\n",
        "\n",
        "    assert len(anchors) == 1\n",
        "\n",
        "    centroid = anchors[0]\n",
        "\n",
        "    z1 = torch.randn_like(anchors[0])\n",
        "    z2 = torch.randn_like(anchors[0])\n",
        "\n",
        "    u1 = z1\n",
        "    u2 = z2 - (u1.T @ z2)/(u1.T @ u1)*u1\n",
        "\n",
        "    dirs = torch.vstack([u1,u2])\n",
        "    dirs /= torch.linalg.norm(dirs,dim=-1,keepdim=True)\n",
        "    domain = torch.vstack([centroid+pad_dist*dirs,centroid-pad_dist*dirs])\n",
        "    domain_poly = torch.vstack([domain,domain[:1]])\n",
        "\n",
        "    return domain_poly\n",
        "\n",
        "\n",
        "\n",
        "def get_square_slice_from_two_anchors(anchors,pad_dist=1,seed=-1):\n",
        "\n",
        "    if not seed == -1: #None buggy for jit\n",
        "        torch.manual_seed(seed)\n",
        "\n",
        "    assert len(anchors) == 2\n",
        "\n",
        "    centroid = torch.mean(anchors,dim=0)\n",
        "\n",
        "    u1 = anchors[0] - centroid\n",
        "    z = torch.randn_like(anchors[0])\n",
        "    u2 = z - (u1.T @ z)/(u1.T @ u1)*u1\n",
        "\n",
        "    dirs = torch.vstack([u1,u2])\n",
        "    dirs /= torch.linalg.norm(dirs,dim=-1,keepdim=True)\n",
        "    domain = torch.vstack([centroid+pad_dist*dirs,centroid-pad_dist*dirs])\n",
        "    domain_poly = torch.vstack([domain,domain[:1]])\n",
        "\n",
        "    return domain_poly\n",
        "\n",
        "def get_square_domain_from_three_anchors(anchors,pad_dist=1,seed=-1):\n",
        "\n",
        "    if not seed == -1: #None buggy for jit\n",
        "        torch.manual_seed(seed)\n",
        "\n",
        "    assert len(anchors) == 3\n",
        "\n",
        "    centroid = torch.mean(anchors,dim=0)\n",
        "\n",
        "    u1 = anchors[0] - centroid\n",
        "    z = torch.randn_like(anchors[0])\n",
        "    u2 = z - (u1.T @ z)/(u1.T @ u1)*u1\n",
        "\n",
        "    dirs = torch.vstack([u1,u2])\n",
        "    dirs /= torch.linalg.norm(dirs,dim=-1,keepdim=True)\n",
        "    domain = torch.vstack([centroid+pad_dist*dirs,centroid-pad_dist*dirs])\n",
        "    domain_poly = torch.vstack([domain,domain[:1]])\n",
        "\n",
        "    return domain_poly\n",
        "\n",
        "def get_square_bad_domain_from_three_anchors(anchors, pad_dist=1):\n",
        "    \"\"\"\n",
        "    Generate a square domain in n-dimensional space based on three anchor points.\n",
        "    The square lies in the plane defined by the three anchors, centered at their centroid,\n",
        "    and with side length equal to pad_dist.\n",
        "    \"\"\"\n",
        "    assert len(anchors) == 3, \"Exactly three anchors are required.\"\n",
        "    anchors = anchors#torch.stack(anchors)\n",
        "    centroid = torch.mean(anchors, dim=0)\n",
        "\n",
        "    # Compute vectors in the plane\n",
        "    v1 = anchors[1] - anchors[0]\n",
        "    v2 = anchors[2] - anchors[0]\n",
        "\n",
        "    # Orthonormal basis via Gram-Schmidt process\n",
        "    u1 = v1 / torch.norm(v1)\n",
        "    v2_proj = v2 - torch.dot(v2, u1) * u1\n",
        "    u2 = v2_proj / torch.norm(v2_proj)\n",
        "\n",
        "    # Now u1 and u2 are orthonormal vectors in the plane\n",
        "\n",
        "    # Define the square in the plane, centered at the centroid\n",
        "    s = pad_dist / 2  # Half the side length\n",
        "\n",
        "    # Define the four corners of the square\n",
        "    corners = []\n",
        "    for dx, dy in [(-s, -s), (-s, s), (s, s), (s, -s)]:\n",
        "        point = centroid + dx * u1 + dy * u2\n",
        "        corners.append(point)\n",
        "\n",
        "    # Close the polygon\n",
        "    domain_poly = torch.stack(corners + [corners[0]])\n",
        "\n",
        "    return domain_poly\n",
        "\n",
        "\n",
        "def get_proj_mat(domain):\n",
        "\n",
        "    v1 = domain[1] - domain[0]\n",
        "    v2 = domain[-2] - domain[0]\n",
        "\n",
        "    v = torch.vstack([v1,v2])\n",
        "    v /= torch.linalg.norm(v,dim=-1,keepdim=True)\n",
        "\n",
        "    return torch.hstack([v.T,domain.mean(0,keepdim=True).T])"
      ],
      "metadata": {
        "id": "gFv1ErcQirMs"
      },
      "execution_count": null,
      "outputs": []
    },
    {
      "cell_type": "code",
      "source": [
        "samples = []\n",
        "label_done = -1\n",
        "for i, (data, labels) in enumerate(train_loader):\n",
        "    if label_done != labels[0]:\n",
        "        samples.append(data[0].flatten())  # Get the first data point from the batch\n",
        "        label_done = labels[0]\n",
        "        print(labels[0])\n",
        "    if len(samples) == 2:\n",
        "        break\n",
        "\n",
        "stacked_samples = torch.stack(samples)\n",
        "stacked_samples"
      ],
      "metadata": {
        "colab": {
          "base_uri": "https://localhost:8080/"
        },
        "id": "e6dGRPff6jvr",
        "outputId": "78e75e94-dd7f-4144-aa6e-67ab7637cbd9"
      },
      "execution_count": null,
      "outputs": [
        {
          "output_type": "stream",
          "name": "stdout",
          "text": [
            "tensor([1])\n",
            "tensor([0])\n"
          ]
        },
        {
          "output_type": "execute_result",
          "data": {
            "text/plain": [
              "tensor([[-0.7412, -0.7804, -0.7725,  ...,  0.3569,  0.3333,  0.3176],\n",
              "        [ 0.0588,  0.2078,  0.3255,  ...,  0.2471,  0.3098,  0.3176]])"
            ]
          },
          "metadata": {},
          "execution_count": 8
        }
      ]
    },
    {
      "cell_type": "code",
      "source": [
        "import matplotlib.pyplot as plt\n",
        "\n",
        "# Reshape the flattened tensors back into 28x28 images\n",
        "image1 = stacked_samples[0].reshape(28, 28)\n",
        "image2 = stacked_samples[1].reshape(28, 28)\n",
        "\n",
        "# Create a figure and axes\n",
        "fig, axes = plt.subplots(1, 2, figsize=(8, 4))\n",
        "\n",
        "# Display the first image\n",
        "axes[0].imshow(image1, cmap='gray')\n",
        "axes[0].set_title('Sample 1')\n",
        "\n",
        "# Display the second image\n",
        "axes[1].imshow(image2, cmap='gray')\n",
        "axes[1].set_title('Sample 2')\n",
        "\n",
        "# Adjust layout and show the plot\n",
        "plt.tight_layout()\n",
        "plt.show()"
      ],
      "metadata": {
        "colab": {
          "base_uri": "https://localhost:8080/",
          "height": 433
        },
        "id": "HW8IhM54iMj-",
        "outputId": "f7cbacbc-dafb-4469-f7d3-74c43fd8cae0"
      },
      "execution_count": null,
      "outputs": [
        {
          "output_type": "display_data",
          "data": {
            "text/plain": [
              "<Figure size 800x400 with 2 Axes>"
            ],
            "image/png": "[encoded data removed]"
          },
          "metadata": {}
        }
      ]
    },
    {
      "cell_type": "code",
      "source": [
        "stacked_samples.shape"
      ],
      "metadata": {
        "colab": {
          "base_uri": "https://localhost:8080/"
        },
        "id": "GFbS-fLX72TW",
        "outputId": "34ae40b2-34e3-498b-c6da-ab90119a6a58"
      },
      "execution_count": null,
      "outputs": [
        {
          "output_type": "execute_result",
          "data": {
            "text/plain": [
              "torch.Size([2, 784])"
            ]
          },
          "metadata": {},
          "execution_count": 10
        }
      ]
    },
    {
      "cell_type": "code",
      "source": [
        "other_samples = []\n",
        "label_done = -1\n",
        "for i, (data, labels) in enumerate(train_loader):\n",
        "    if label_done != labels[0]:\n",
        "        other_samples.append(data[0].flatten())  # Get the first data point from the batch\n",
        "        label_done = labels[0]\n",
        "        print(labels[0])\n",
        "    if len(other_samples) == 2:\n",
        "        break\n",
        "\n",
        "stacked_other_samples = torch.stack(other_samples)\n",
        "stacked_other_samples"
      ],
      "metadata": {
        "colab": {
          "base_uri": "https://localhost:8080/"
        },
        "id": "pewHoDpCRTSB",
        "outputId": "301167b2-32b6-4240-db1f-4f939fca86b2"
      },
      "execution_count": null,
      "outputs": [
        {
          "output_type": "stream",
          "name": "stdout",
          "text": [
            "tensor([1])\n",
            "tensor([0])\n"
          ]
        },
        {
          "output_type": "execute_result",
          "data": {
            "text/plain": [
              "tensor([[-0.4824, -0.4118, -0.4196,  ...,  0.3333,  0.3098,  0.2627],\n",
              "        [-0.9922, -1.0000, -1.0000,  ...,  0.2706, -0.2471, -0.9294]])"
            ]
          },
          "metadata": {},
          "execution_count": 11
        }
      ]
    },
    {
      "cell_type": "code",
      "source": [
        "import matplotlib.pyplot as plt\n",
        "\n",
        "# Reshape the flattened tensors back into 28x28 images\n",
        "image1 = stacked_other_samples[0].reshape(28, 28)\n",
        "image2 = stacked_other_samples[1].reshape(28, 28)\n",
        "\n",
        "# Create a figure and axes\n",
        "fig, axes = plt.subplots(1, 2, figsize=(8, 4))\n",
        "\n",
        "# Display the first image\n",
        "axes[0].imshow(image1, cmap='gray')\n",
        "axes[0].set_title('Sample 1')\n",
        "\n",
        "# Display the second image\n",
        "axes[1].imshow(image2, cmap='gray')\n",
        "axes[1].set_title('Sample 2')\n",
        "\n",
        "# Adjust layout and show the plot\n",
        "plt.tight_layout()\n",
        "plt.show()"
      ],
      "metadata": {
        "colab": {
          "base_uri": "https://localhost:8080/",
          "height": 433
        },
        "id": "0uNx7N3gRnQ7",
        "outputId": "88b6ac85-e224-4405-b047-370aaf3e0d99"
      },
      "execution_count": null,
      "outputs": [
        {
          "output_type": "display_data",
          "data": {
            "text/plain": [
              "<Figure size 800x400 with 2 Axes>"
            ],
            "image/png": "[encoded data removed]"
          },
          "metadata": {}
        }
      ]
    },
    {
      "cell_type": "code",
      "source": [
        "# Calculate Euclidean distance\n",
        "def euclidean_distance(vector1, vector2):\n",
        "    return torch.norm(vector1 - vector2)\n",
        "\n",
        "# Assuming stacked_samples is already defined from the previous code\n",
        "distance = euclidean_distance(stacked_other_samples[0], stacked_samples[0])\n",
        "\n",
        "print(f\"Euclidean distance between the two vectors: {distance}\")"
      ],
      "metadata": {
        "colab": {
          "base_uri": "https://localhost:8080/"
        },
        "id": "m2RtNRL5R3PS",
        "outputId": "5a5727a0-664e-4b07-9226-753976975257"
      },
      "execution_count": null,
      "outputs": [
        {
          "output_type": "stream",
          "name": "stdout",
          "text": [
            "Euclidean distance between the two vectors: 6.057461738586426\n"
          ]
        }
      ]
    },
    {
      "cell_type": "code",
      "source": [
        "# Calculate Euclidean distance\n",
        "def euclidean_distance(vector1, vector2):\n",
        "    return torch.norm(vector1 - vector2)\n",
        "\n",
        "# Assuming stacked_samples is already defined from the previous code\n",
        "distance = euclidean_distance(stacked_other_samples[1], stacked_samples[1])\n",
        "\n",
        "print(f\"Euclidean distance between the two vectors: {distance}\")"
      ],
      "metadata": {
        "colab": {
          "base_uri": "https://localhost:8080/"
        },
        "id": "penT52gVSCXd",
        "outputId": "ee50bc36-9463-41f1-f13d-08cdc12ee01b"
      },
      "execution_count": null,
      "outputs": [
        {
          "output_type": "stream",
          "name": "stdout",
          "text": [
            "Euclidean distance between the two vectors: 11.510539054870605\n"
          ]
        }
      ]
    },
    {
      "cell_type": "code",
      "source": [
        "# Calculate Euclidean distance\n",
        "def euclidean_distance(vector1, vector2):\n",
        "    return torch.norm(vector1 - vector2)\n",
        "\n",
        "# Assuming stacked_samples is already defined from the previous code\n",
        "distance = euclidean_distance(stacked_other_samples[0], stacked_other_samples[1])\n",
        "\n",
        "print(f\"Euclidean distance between the two vectors: {distance}\")"
      ],
      "metadata": {
        "colab": {
          "base_uri": "https://localhost:8080/"
        },
        "id": "A3K5_0CKSKKM",
        "outputId": "a90c3303-b3e3-44a0-8fe5-0ce6696c4d81"
      },
      "execution_count": null,
      "outputs": [
        {
          "output_type": "stream",
          "name": "stdout",
          "text": [
            "Euclidean distance between the two vectors: 9.851762771606445\n"
          ]
        }
      ]
    },
    {
      "cell_type": "code",
      "source": [
        "# Calculate Euclidean distance\n",
        "def euclidean_distance(vector1, vector2):\n",
        "    return torch.norm(vector1 - vector2)\n",
        "\n",
        "# Assuming stacked_samples is already defined from the previous code\n",
        "distance = euclidean_distance(stacked_samples[0], stacked_samples[1])\n",
        "\n",
        "print(f\"Euclidean distance between the two vectors: {distance}\")"
      ],
      "metadata": {
        "colab": {
          "base_uri": "https://localhost:8080/"
        },
        "id": "7Lk9If5iSN1B",
        "outputId": "c72801f5-bd08-4e78-c01b-858ee73a3918"
      },
      "execution_count": null,
      "outputs": [
        {
          "output_type": "stream",
          "name": "stdout",
          "text": [
            "Euclidean distance between the two vectors: 9.292860984802246\n"
          ]
        }
      ]
    },
    {
      "cell_type": "code",
      "source": [
        "import numpy as np\n",
        "from matplotlib.path import Path\n",
        "\n",
        "def get_proj_mat(domain):\n",
        "    \"\"\"\n",
        "    Compute the projection matrix P and translation vector x0 for projecting n-dimensional points to 2D.\n",
        "    \"\"\"\n",
        "    v1 = domain[1] - domain[0]\n",
        "    v2 = domain[2] - domain[0]\n",
        "\n",
        "    # Orthonormal basis via Gram-Schmidt process\n",
        "    e1 = v1 / np.linalg.norm(v1)\n",
        "    v2_proj = v2 - np.dot(v2, e1) * e1\n",
        "    e2 = v2_proj / np.linalg.norm(v2_proj)\n",
        "\n",
        "    # Projection matrix from nD to 2D\n",
        "    P = np.vstack([e1, e2])  # Shape: (2, n)\n",
        "\n",
        "    # Translation vector (mean of the domain)\n",
        "    x0 = domain.mean(axis=0)  # Shape: (n,)\n",
        "\n",
        "    return P, x0\n",
        "\n",
        "def project_points(points, P, x0):\n",
        "    \"\"\"\n",
        "    Project n-dimensional points to 2D using projection matrix P and translation x0.\n",
        "    \"\"\"\n",
        "    return (P @ (points - x0).T).T  # Shape: (N, 2)\n",
        "\n",
        "def back_project_points(points_2d, P, x0):\n",
        "    \"\"\"\n",
        "    Back-project 2D points to n-dimensional space using the pseudoinverse of P and translation x0.\n",
        "    \"\"\"\n",
        "    P_pinv = np.linalg.pinv(P)  # Shape: (n, 2)\n",
        "    return (P_pinv @ points_2d.T).T + x0  # Shape: (N, n)\n",
        "\n",
        "def create_2d_arrays_for_hyperspace(domain):\n",
        "    \"\"\"\n",
        "    Create 2D arrays for each dimension such that the square domain in hyperspace is represented\n",
        "    as a 2D grid of points lying within the domain.\n",
        "    \"\"\"\n",
        "    # Step 1: Compute the projection matrix and translation vector\n",
        "    P, x0 = get_proj_mat(domain)  # P: (2, n), x0: (n,)\n",
        "\n",
        "    # Step 2: Project the domain to 2D\n",
        "    domain_2d = project_points(domain, P, x0)  # Shape: (m, 2)\n",
        "\n",
        "    # Step 3: Create a 2D grid in the projected space\n",
        "    x_min, x_max = domain_2d[:, 0].min(), domain_2d[:, 0].max()\n",
        "    y_min, y_max = domain_2d[:, 1].min(), domain_2d[:, 1].max()\n",
        "    x2 = np.linspace(x_min, x_max, 100)\n",
        "    y2 = np.linspace(y_min, y_max, 100)\n",
        "    X2, Y2 = np.meshgrid(x2, y2)  # Shapes: (100, 100)\n",
        "\n",
        "    # Step 4: Flatten the grid and back-project to hyperspace\n",
        "    grid_2d_flat = np.vstack([X2.ravel(), Y2.ravel()]).T  # Shape: (10000, 2)\n",
        "    back_projected_points_flat = back_project_points(grid_2d_flat, P, x0)  # Shape: (10000, n)\n",
        "\n",
        "    # Step 5: Filter points that lie inside the projected domain\n",
        "    path = Path(domain_2d)\n",
        "    inside_mask_flat = path.contains_points(grid_2d_flat)  # Shape: (10000,)\n",
        "\n",
        "    # Step 6: Reshape back-projected points and mask to grid shape\n",
        "    back_projected_points = back_projected_points_flat.reshape(X2.shape + (back_projected_points_flat.shape[1],))  # Shape: (100, 100, n)\n",
        "\n",
        "    # Assuming grid_points is the array of shape (100, 100, n)\n",
        "    unstacked_matrices = np.moveaxis(back_projected_points, -1, 0)  # Move the last axis to the first\n",
        "\n",
        "    # Now unstacked_matrices is of shape (n, 100, 100)\n",
        "    # You can unpack it into individual matrices\n",
        "    dimension_matrices = list(unstacked_matrices)\n",
        "\n",
        "    # Step 7: Set points outside the domain to NaN\n",
        "    # inside_mask = inside_mask_flat.reshape(X2.shape)  # Shape: (100, 100)\n",
        "    # back_projected_points[~inside_mask] = np.nan\n",
        "\n",
        "    # The result is a 3D array where each layer along the last axis represents one dimension in hyperspace\n",
        "    return dimension_matrices\n",
        "\n",
        "# Calculate Euclidean distance\n",
        "def euclidean_distance(vector1, vector2):\n",
        "    return torch.norm(vector1 - vector2)\n",
        "\n",
        "# Assuming stacked_samples is already defined from the previous code\n",
        "distance = euclidean_distance(stacked_samples[0], stacked_samples[1])\n",
        "\n",
        "print(f\"Euclidean distance between the two vectors: {distance}\")\n",
        "\n",
        "\n",
        "# Example usage\n",
        "domain = get_square_slice_from_two_anchors(stacked_samples,pad_dist=int(distance/2),seed=42).detach().numpy()\n",
        "# domain = np.array([\n",
        "#     [0.2572, 0.7355, 1.1020],\n",
        "#     [1.5166, -1.7285, 0.5166],\n",
        "#     [-0.7304, -2.5139, -1.0113],\n",
        "#     [-1.9897, -0.0499, -0.4259],\n",
        "#     [0.2572, 0.7355, 1.1020]  # Closing the polygon\n",
        "# ])\n",
        "\n",
        "grid_points = create_2d_arrays_for_hyperspace(domain)\n",
        "\n",
        "print(\"Shape of the final 2D stacked array:\", len(grid_points))\n"
      ],
      "metadata": {
        "colab": {
          "base_uri": "https://localhost:8080/"
        },
        "id": "qgBLM3mnV0xt",
        "outputId": "fec89570-0db3-4bef-9f88-40ea8f9c6fa7"
      },
      "execution_count": null,
      "outputs": [
        {
          "output_type": "stream",
          "name": "stdout",
          "text": [
            "Euclidean distance between the two vectors: 9.292860984802246\n",
            "Shape of the final 2D stacked array: 784\n"
          ]
        },
        {
          "output_type": "stream",
          "name": "stderr",
          "text": [
            "<ipython-input-7-c5823053cced>:38: UserWarning: The use of `x.T` on tensors of dimension other than 2 to reverse their shape is deprecated and it will throw an error in a future release. Consider `x.mT` to transpose batches of matrices or `x.permute(*torch.arange(x.ndim - 1, -1, -1))` to reverse the dimensions of a tensor. (Triggered internally at ../aten/src/ATen/native/TensorShape.cpp:3683.)\n",
            "  u2 = z - (u1.T @ z)/(u1.T @ u1)*u1\n"
          ]
        }
      ]
    },
    {
      "cell_type": "markdown",
      "source": [
        "For an extra 3"
      ],
      "metadata": {
        "id": "2houuCB9gyw-"
      }
    },
    {
      "cell_type": "code",
      "source": [
        "import torch\n",
        "\n",
        "def get_square_domain_from_three_anchors(anchors, pad_dist=1, seed=-1):\n",
        "    if seed != -1:\n",
        "        torch.manual_seed(seed)\n",
        "\n",
        "    assert len(anchors) == 3\n",
        "\n",
        "    # Compute the centroid of the anchors\n",
        "    centroid = torch.mean(anchors, dim=0)\n",
        "\n",
        "    # Vectors in the plane defined by the anchors\n",
        "    u1 = anchors[1] - anchors[0]\n",
        "    u2 = anchors[2] - anchors[0]\n",
        "\n",
        "    # Orthonormalize u1 and u2 using the Gram-Schmidt process\n",
        "    u1 = u1 / torch.linalg.norm(u1)\n",
        "    u2 = u2 - torch.dot(u2, u1) * u1\n",
        "    u2_norm = torch.linalg.norm(u2)\n",
        "    if u2_norm < 1e-8:\n",
        "        # If u2 is nearly zero vector after orthogonalization, generate a random vector orthogonal to u1\n",
        "        u2 = torch.randn_like(u1)\n",
        "        u2 = u2 - torch.dot(u2, u1) * u1\n",
        "        u2_norm = torch.linalg.norm(u2)\n",
        "    u2 = u2 / u2_norm\n",
        "\n",
        "    # Directions (orthonormal basis) in the plane\n",
        "    dirs = torch.stack([u1, u2])\n",
        "\n",
        "    # Project the anchors onto the plane's coordinate system\n",
        "    projections = (anchors - centroid) @ dirs.T  # Shape: (3, 2)\n",
        "\n",
        "    # Find min and max projections along each direction\n",
        "    min_proj = projections.min(dim=0).values - pad_dist\n",
        "    max_proj = projections.max(dim=0).values + pad_dist\n",
        "\n",
        "    # Adjust the ranges to make the domain a square\n",
        "    ranges = max_proj - min_proj\n",
        "    max_range = torch.max(ranges)\n",
        "    for i in range(2):\n",
        "        if ranges[i] < max_range:\n",
        "            delta = max_range - ranges[i]\n",
        "            min_proj[i] -= delta / 2\n",
        "            max_proj[i] += delta / 2\n",
        "\n",
        "    # Construct the square domain corners in the projection plane\n",
        "    corners_proj = torch.tensor([\n",
        "        [min_proj[0], min_proj[1]],\n",
        "        [min_proj[0], max_proj[1]],\n",
        "        [max_proj[0], max_proj[1]],\n",
        "        [max_proj[0], min_proj[1]]\n",
        "    ])\n",
        "\n",
        "    # Map the corners back to the original hyperdimensional space\n",
        "    corners = centroid + corners_proj @ dirs\n",
        "\n",
        "    # Close the polygon by appending the first corner at the end\n",
        "    domain_poly = torch.vstack([corners, corners[0].unsqueeze(0)])\n",
        "\n",
        "    return domain_poly\n"
      ],
      "metadata": {
        "id": "TG_nSOz2qHMf"
      },
      "execution_count": null,
      "outputs": []
    },
    {
      "cell_type": "code",
      "source": [
        "samples2 = samples.copy()\n",
        "samples2.append(stacked_other_samples[0])\n",
        "stacked_three_samples = torch.stack(samples2)"
      ],
      "metadata": {
        "id": "Ji7HGrp-WplU"
      },
      "execution_count": null,
      "outputs": []
    },
    {
      "cell_type": "code",
      "source": [
        "stacked_three_samples"
      ],
      "metadata": {
        "colab": {
          "base_uri": "https://localhost:8080/"
        },
        "id": "JU_w9ioEi7vq",
        "outputId": "8d16a298-d804-4bd7-874e-6039316983e0"
      },
      "execution_count": null,
      "outputs": [
        {
          "output_type": "execute_result",
          "data": {
            "text/plain": [
              "tensor([[-0.7412, -0.7804, -0.7725,  ...,  0.3569,  0.3333,  0.3176],\n",
              "        [ 0.0588,  0.2078,  0.3255,  ...,  0.2471,  0.3098,  0.3176],\n",
              "        [-0.4824, -0.4118, -0.4196,  ...,  0.3333,  0.3098,  0.2627]])"
            ]
          },
          "metadata": {},
          "execution_count": 20
        }
      ]
    },
    {
      "cell_type": "code",
      "source": [
        "domain"
      ],
      "metadata": {
        "colab": {
          "base_uri": "https://localhost:8080/"
        },
        "id": "ktjX7LKlo7yY",
        "outputId": "0d5203c9-7429-47bd-c287-c6a60bace477"
      },
      "execution_count": null,
      "outputs": [
        {
          "output_type": "execute_result",
          "data": {
            "text/plain": [
              "array([[-0.68552685, -0.71164846, -0.6961672 , ...,  0.3492246 ,\n",
              "         0.33169663,  0.3176471 ],\n",
              "       [-0.09092477, -0.10503066, -0.12981623, ...,  0.41565627,\n",
              "         0.21249732,  0.1816703 ],\n",
              "       [ 0.00317395,  0.13909951,  0.24910837, ...,  0.25469705,\n",
              "         0.3114407 ,  0.3176471 ],\n",
              "       [-0.59142816, -0.46751833, -0.31724256, ...,  0.18826537,\n",
              "         0.43064   ,  0.4536239 ],\n",
              "       [-0.68552685, -0.71164846, -0.6961672 , ...,  0.3492246 ,\n",
              "         0.33169663,  0.3176471 ]], dtype=float32)"
            ]
          },
          "metadata": {},
          "execution_count": 21
        }
      ]
    },
    {
      "cell_type": "code",
      "source": [
        "distance"
      ],
      "metadata": {
        "colab": {
          "base_uri": "https://localhost:8080/"
        },
        "id": "m-Dv4cx1kVOJ",
        "outputId": "27ab7a67-7113-4eae-a53a-cd8c932fdc13"
      },
      "execution_count": null,
      "outputs": [
        {
          "output_type": "execute_result",
          "data": {
            "text/plain": [
              "tensor(9.2929)"
            ]
          },
          "metadata": {},
          "execution_count": 22
        }
      ]
    },
    {
      "cell_type": "code",
      "source": [
        "# Assuming stacked_samples is already defined from the previous code\n",
        "distance = euclidean_distance(stacked_samples[0], stacked_samples[1])\n",
        "domain = get_square_domain_from_three_anchors(stacked_three_samples,pad_dist=int(distance*2/3),seed=42).detach().numpy()\n",
        "\n",
        "grid_points = create_2d_arrays_for_hyperspace(domain)\n",
        "\n",
        "print(\"Shape of the final 2D stacked array:\", len(grid_points))"
      ],
      "metadata": {
        "colab": {
          "base_uri": "https://localhost:8080/"
        },
        "id": "0zLkZ6uYV8l9",
        "outputId": "c4550477-f1fc-4892-c527-10acff420863"
      },
      "execution_count": null,
      "outputs": [
        {
          "output_type": "stream",
          "name": "stdout",
          "text": [
            "Shape of the final 2D stacked array: 784\n"
          ]
        }
      ]
    },
    {
      "cell_type": "code",
      "source": [
        "model_dict_ls = [np.array(ls.cpu()) for ls in list(model.state_dict().values())]\n",
        "Z = fn(np.array(grid_points),model_dict_ls,0)[0]"
      ],
      "metadata": {
        "id": "Vo2m4pHWaLwq"
      },
      "execution_count": null,
      "outputs": []
    },
    {
      "cell_type": "code",
      "source": [
        "len(Z[Z>0.9])"
      ],
      "metadata": {
        "colab": {
          "base_uri": "https://localhost:8080/"
        },
        "id": "DnCBnd5rgVXX",
        "outputId": "af1f4bf3-f767-4460-b8f0-3811dcbdbcb2"
      },
      "execution_count": null,
      "outputs": [
        {
          "output_type": "execute_result",
          "data": {
            "text/plain": [
              "6229"
            ]
          },
          "metadata": {},
          "execution_count": 25
        }
      ]
    },
    {
      "cell_type": "code",
      "source": [
        "# Step 1: Compute the projection matrix and translation vector\n",
        "P, x0 = get_proj_mat(domain)  # P: (2, n), x0: (n,)\n",
        "\n",
        "# Step 2: Project the domain to 2D\n",
        "domain_2d = project_points(domain, P, x0)  # Shape: (m, 2)\n",
        "\n",
        "# Step 3: Create a 2D grid in the projected space\n",
        "x_min, x_max = domain_2d[:, 0].min(), domain_2d[:, 0].max()\n",
        "y_min, y_max = domain_2d[:, 1].min(), domain_2d[:, 1].max()\n",
        "x2 = np.linspace(x_min, x_max, 100)\n",
        "y2 = np.linspace(y_min, y_max, 100)\n",
        "X2, Y2 = np.meshgrid(x2, y2)  # Shapes: (100, 100)\n",
        "\n",
        "\n",
        "\n",
        "# Define the labeled points\n",
        "labeled_points = {\n",
        "    \"3\": np.array(stacked_three_samples[0].detach().numpy()),\n",
        "    \"3_2nd\": np.array(stacked_three_samples[2].detach().numpy()),\n",
        "    \"2\": np.array(stacked_three_samples[1].detach().numpy()),\n",
        "}\n",
        "\n",
        "# Project the labeled points to 2D\n",
        "projected_labeled_points = {label: project_points(point[None, :], P, x0)[0] for label, point in labeled_points.items()}\n",
        "\n",
        "# Plot the contour for activation value 0.5\n",
        "plt.figure(figsize=(10, 6))\n",
        "contour = plt.contour(X2, Y2, Z, levels=[0.5], colors='red', linewidths=2)\n",
        "\n",
        "# Plot the labeled points\n",
        "for label, point in projected_labeled_points.items():\n",
        "    if label in [\"3\" ,\"3_2nd\"]:\n",
        "        plt.scatter(point[0], point[1], color='blue', label=label, s=100)  # Blue for inside\n",
        "    elif label == \"2\":\n",
        "        plt.scatter(point[0], point[1], color='green', label=label, s=100)  # Green for outside\n",
        "\n",
        "# Add labels, title, and legend\n",
        "plt.xlabel('Feature 1 (Projected Dimension 1)')\n",
        "plt.ylabel('Feature 2 (Projected Dimension 2)')\n",
        "plt.title('Contour Plot for Activation Value 0.5 with Labeled Points')\n",
        "plt.legend()\n",
        "plt.grid()\n",
        "plt.show()\n"
      ],
      "metadata": {
        "colab": {
          "base_uri": "https://localhost:8080/",
          "height": 564
        },
        "id": "tsY81xLnY_Gs",
        "outputId": "c889904d-81a3-4074-8742-0d0064a3190d"
      },
      "execution_count": null,
      "outputs": [
        {
          "output_type": "display_data",
          "data": {
            "text/plain": [
              "<Figure size 1000x600 with 1 Axes>"
            ],
            "image/png": "[encoded data removed]"
          },
          "metadata": {}
        }
      ]
    },
    {
      "cell_type": "markdown",
      "source": [
        "#Experiment 2"
      ],
      "metadata": {
        "id": "jCu3WLyRXlhV"
      }
    },
    {
      "cell_type": "code",
      "source": [
        "samples = []\n",
        "label_done = -1\n",
        "for i, (data, labels) in enumerate(train_loader):\n",
        "    if label_done != labels[0]:\n",
        "        samples.append(data[0].flatten())  # Get the first data point from the batch\n",
        "        label_done = labels[0]\n",
        "        print(labels[0])\n",
        "    if len(samples) == 2:\n",
        "        break\n",
        "\n",
        "stacked_samples = torch.stack(samples)\n",
        "stacked_samples"
      ],
      "metadata": {
        "id": "AtLgzyldN1Jt",
        "colab": {
          "base_uri": "https://localhost:8080/"
        },
        "outputId": "0fa9714b-b95e-46a2-d774-e6d5f71035e4"
      },
      "execution_count": null,
      "outputs": [
        {
          "output_type": "stream",
          "name": "stdout",
          "text": [
            "tensor([1])\n",
            "tensor([0])\n"
          ]
        },
        {
          "output_type": "execute_result",
          "data": {
            "text/plain": [
              "tensor([[ 0.0196,  0.0588,  0.0824,  ...,  0.3255,  0.3098,  0.3098],\n",
              "        [-0.4431, -0.5059, -0.9216,  ...,  0.3255,  0.0275, -0.5608]])"
            ]
          },
          "metadata": {},
          "execution_count": 27
        }
      ]
    },
    {
      "cell_type": "code",
      "source": [
        "import matplotlib.pyplot as plt\n",
        "\n",
        "# Reshape the flattened tensors back into 28x28 images\n",
        "image1 = stacked_samples[0].reshape(28, 28)\n",
        "image2 = stacked_samples[1].reshape(28, 28)\n",
        "\n",
        "# Create a figure and axes\n",
        "fig, axes = plt.subplots(1, 2, figsize=(8, 4))\n",
        "\n",
        "# Display the first image\n",
        "axes[0].imshow(image1, cmap='gray')\n",
        "axes[0].set_title('Sample 1')\n",
        "\n",
        "# Display the second image\n",
        "axes[1].imshow(image2, cmap='gray')\n",
        "axes[1].set_title('Sample 2')\n",
        "\n",
        "# Adjust layout and show the plot\n",
        "plt.tight_layout()\n",
        "plt.show()"
      ],
      "metadata": {
        "colab": {
          "base_uri": "https://localhost:8080/",
          "height": 433
        },
        "id": "kl2LBWdHXsng",
        "outputId": "1a8e3c12-5fe7-4215-d302-0a1f00d45948"
      },
      "execution_count": null,
      "outputs": [
        {
          "output_type": "display_data",
          "data": {
            "text/plain": [
              "<Figure size 800x400 with 2 Axes>"
            ],
            "image/png": "[encoded data removed]"
          },
          "metadata": {}
        }
      ]
    },
    {
      "cell_type": "code",
      "source": [
        "stacked_samples.shape"
      ],
      "metadata": {
        "colab": {
          "base_uri": "https://localhost:8080/"
        },
        "id": "AnqLI-uJXwAL",
        "outputId": "3790a290-5d6e-4ca7-d701-78174859d05f"
      },
      "execution_count": null,
      "outputs": [
        {
          "output_type": "execute_result",
          "data": {
            "text/plain": [
              "torch.Size([2, 784])"
            ]
          },
          "metadata": {},
          "execution_count": 29
        }
      ]
    },
    {
      "cell_type": "code",
      "source": [
        "other_samples = []\n",
        "label_done = -1\n",
        "for i, (data, labels) in enumerate(train_loader):\n",
        "    if label_done != labels[0]:\n",
        "        other_samples.append(data[0].flatten())  # Get the first data point from the batch\n",
        "        label_done = labels[0]\n",
        "        print(labels[0])\n",
        "    if len(other_samples) == 2:\n",
        "        break\n",
        "\n",
        "stacked_other_samples = torch.stack(other_samples)\n",
        "stacked_other_samples"
      ],
      "metadata": {
        "colab": {
          "base_uri": "https://localhost:8080/"
        },
        "id": "x_34_BYUX0gH",
        "outputId": "9db646c4-0666-4df9-f696-c52e30f7c6fd"
      },
      "execution_count": null,
      "outputs": [
        {
          "output_type": "stream",
          "name": "stdout",
          "text": [
            "tensor([1])\n",
            "tensor([0])\n"
          ]
        },
        {
          "output_type": "execute_result",
          "data": {
            "text/plain": [
              "tensor([[-0.1686, -0.1294, -0.0667,  ...,  0.3020,  0.2706,  0.2549],\n",
              "        [-0.0902, -0.0196,  0.0275,  ...,  0.5608,  0.5294,  0.5137]])"
            ]
          },
          "metadata": {},
          "execution_count": 30
        }
      ]
    },
    {
      "cell_type": "code",
      "source": [
        "import matplotlib.pyplot as plt\n",
        "\n",
        "# Reshape the flattened tensors back into 28x28 images\n",
        "image1 = stacked_other_samples[0].reshape(28, 28)\n",
        "image2 = stacked_other_samples[1].reshape(28, 28)\n",
        "\n",
        "# Create a figure and axes\n",
        "fig, axes = plt.subplots(1, 2, figsize=(8, 4))\n",
        "\n",
        "# Display the first image\n",
        "axes[0].imshow(image1, cmap='gray')\n",
        "axes[0].set_title('Sample 1')\n",
        "\n",
        "# Display the second image\n",
        "axes[1].imshow(image2, cmap='gray')\n",
        "axes[1].set_title('Sample 2')\n",
        "\n",
        "# Adjust layout and show the plot\n",
        "plt.tight_layout()\n",
        "plt.show()"
      ],
      "metadata": {
        "colab": {
          "base_uri": "https://localhost:8080/",
          "height": 433
        },
        "id": "Robr9nF5X3mP",
        "outputId": "0d0561b9-c58b-4597-baf4-7088813166ec"
      },
      "execution_count": null,
      "outputs": [
        {
          "output_type": "display_data",
          "data": {
            "text/plain": [
              "<Figure size 800x400 with 2 Axes>"
            ],
            "image/png": "[encoded data removed]"
          },
          "metadata": {}
        }
      ]
    },
    {
      "cell_type": "code",
      "source": [
        "# Calculate Euclidean distance\n",
        "def euclidean_distance(vector1, vector2):\n",
        "    return torch.norm(vector1 - vector2)\n",
        "\n",
        "# Assuming stacked_samples is already defined from the previous code\n",
        "distance = euclidean_distance(stacked_other_samples[0], stacked_samples[0])\n",
        "\n",
        "print(f\"Euclidean distance between the two vectors: {distance}\")"
      ],
      "metadata": {
        "colab": {
          "base_uri": "https://localhost:8080/"
        },
        "id": "A9QF_f5nX6si",
        "outputId": "8660e57c-b7c7-48ac-c603-d9538250947c"
      },
      "execution_count": null,
      "outputs": [
        {
          "output_type": "stream",
          "name": "stdout",
          "text": [
            "Euclidean distance between the two vectors: 9.083812713623047\n"
          ]
        }
      ]
    },
    {
      "cell_type": "code",
      "source": [
        "# Calculate Euclidean distance\n",
        "def euclidean_distance(vector1, vector2):\n",
        "    return torch.norm(vector1 - vector2)\n",
        "\n",
        "# Assuming stacked_samples is already defined from the previous code\n",
        "distance = euclidean_distance(stacked_other_samples[1], stacked_samples[1])\n",
        "\n",
        "print(f\"Euclidean distance between the two vectors: {distance}\")"
      ],
      "metadata": {
        "colab": {
          "base_uri": "https://localhost:8080/"
        },
        "id": "_S24GDZpX-_U",
        "outputId": "cfb10573-0169-4489-b60c-f1e974ed9c79"
      },
      "execution_count": null,
      "outputs": [
        {
          "output_type": "stream",
          "name": "stdout",
          "text": [
            "Euclidean distance between the two vectors: 13.008162498474121\n"
          ]
        }
      ]
    },
    {
      "cell_type": "code",
      "source": [
        "# Calculate Euclidean distance\n",
        "def euclidean_distance(vector1, vector2):\n",
        "    return torch.norm(vector1 - vector2)\n",
        "\n",
        "# Assuming stacked_samples is already defined from the previous code\n",
        "distance = euclidean_distance(stacked_other_samples[0], stacked_other_samples[1])\n",
        "\n",
        "print(f\"Euclidean distance between the two vectors: {distance}\")"
      ],
      "metadata": {
        "colab": {
          "base_uri": "https://localhost:8080/"
        },
        "id": "JKa6wl_DYCZD",
        "outputId": "d9667ef3-a565-4663-bffd-2181013bbe64"
      },
      "execution_count": null,
      "outputs": [
        {
          "output_type": "stream",
          "name": "stdout",
          "text": [
            "Euclidean distance between the two vectors: 6.849722385406494\n"
          ]
        }
      ]
    },
    {
      "cell_type": "code",
      "source": [
        "# Calculate Euclidean distance\n",
        "def euclidean_distance(vector1, vector2):\n",
        "    return torch.norm(vector1 - vector2)\n",
        "\n",
        "# Assuming stacked_samples is already defined from the previous code\n",
        "distance = euclidean_distance(stacked_samples[0], stacked_samples[1])\n",
        "\n",
        "print(f\"Euclidean distance between the two vectors: {distance}\")"
      ],
      "metadata": {
        "colab": {
          "base_uri": "https://localhost:8080/"
        },
        "id": "XW_6RobyYGl7",
        "outputId": "c552ce11-b3b9-4b34-f6c8-46eebb84b52a"
      },
      "execution_count": null,
      "outputs": [
        {
          "output_type": "stream",
          "name": "stdout",
          "text": [
            "Euclidean distance between the two vectors: 16.741474151611328\n"
          ]
        }
      ]
    },
    {
      "cell_type": "code",
      "source": [
        "import numpy as np\n",
        "from matplotlib.path import Path\n",
        "\n",
        "def get_proj_mat(domain):\n",
        "    \"\"\"\n",
        "    Compute the projection matrix P and translation vector x0 for projecting n-dimensional points to 2D.\n",
        "    \"\"\"\n",
        "    v1 = domain[1] - domain[0]\n",
        "    v2 = domain[2] - domain[0]\n",
        "\n",
        "    # Orthonormal basis via Gram-Schmidt process\n",
        "    e1 = v1 / np.linalg.norm(v1)\n",
        "    v2_proj = v2 - np.dot(v2, e1) * e1\n",
        "    e2 = v2_proj / np.linalg.norm(v2_proj)\n",
        "\n",
        "    # Projection matrix from nD to 2D\n",
        "    P = np.vstack([e1, e2])  # Shape: (2, n)\n",
        "\n",
        "    # Translation vector (mean of the domain)\n",
        "    x0 = domain.mean(axis=0)  # Shape: (n,)\n",
        "\n",
        "    return P, x0\n",
        "\n",
        "def project_points(points, P, x0):\n",
        "    \"\"\"\n",
        "    Project n-dimensional points to 2D using projection matrix P and translation x0.\n",
        "    \"\"\"\n",
        "    return (P @ (points - x0).T).T  # Shape: (N, 2)\n",
        "\n",
        "def back_project_points(points_2d, P, x0):\n",
        "    \"\"\"\n",
        "    Back-project 2D points to n-dimensional space using the pseudoinverse of P and translation x0.\n",
        "    \"\"\"\n",
        "    P_pinv = np.linalg.pinv(P)  # Shape: (n, 2)\n",
        "    return (P_pinv @ points_2d.T).T + x0  # Shape: (N, n)\n",
        "\n",
        "def create_2d_arrays_for_hyperspace(domain):\n",
        "    \"\"\"\n",
        "    Create 2D arrays for each dimension such that the square domain in hyperspace is represented\n",
        "    as a 2D grid of points lying within the domain.\n",
        "    \"\"\"\n",
        "    # Step 1: Compute the projection matrix and translation vector\n",
        "    P, x0 = get_proj_mat(domain)  # P: (2, n), x0: (n,)\n",
        "\n",
        "    # Step 2: Project the domain to 2D\n",
        "    domain_2d = project_points(domain, P, x0)  # Shape: (m, 2)\n",
        "\n",
        "    # Step 3: Create a 2D grid in the projected space\n",
        "    x_min, x_max = domain_2d[:, 0].min(), domain_2d[:, 0].max()\n",
        "    y_min, y_max = domain_2d[:, 1].min(), domain_2d[:, 1].max()\n",
        "    x2 = np.linspace(x_min, x_max, 100)\n",
        "    y2 = np.linspace(y_min, y_max, 100)\n",
        "    X2, Y2 = np.meshgrid(x2, y2)  # Shapes: (100, 100)\n",
        "\n",
        "    # Step 4: Flatten the grid and back-project to hyperspace\n",
        "    grid_2d_flat = np.vstack([X2.ravel(), Y2.ravel()]).T  # Shape: (10000, 2)\n",
        "    back_projected_points_flat = back_project_points(grid_2d_flat, P, x0)  # Shape: (10000, n)\n",
        "\n",
        "    # Step 5: Filter points that lie inside the projected domain\n",
        "    path = Path(domain_2d)\n",
        "    inside_mask_flat = path.contains_points(grid_2d_flat)  # Shape: (10000,)\n",
        "\n",
        "    # Step 6: Reshape back-projected points and mask to grid shape\n",
        "    back_projected_points = back_projected_points_flat.reshape(X2.shape + (back_projected_points_flat.shape[1],))  # Shape: (100, 100, n)\n",
        "\n",
        "    # Assuming grid_points is the array of shape (100, 100, n)\n",
        "    unstacked_matrices = np.moveaxis(back_projected_points, -1, 0)  # Move the last axis to the first\n",
        "\n",
        "    # Now unstacked_matrices is of shape (n, 100, 100)\n",
        "    # You can unpack it into individual matrices\n",
        "    dimension_matrices = list(unstacked_matrices)\n",
        "\n",
        "    # Step 7: Set points outside the domain to NaN\n",
        "    # inside_mask = inside_mask_flat.reshape(X2.shape)  # Shape: (100, 100)\n",
        "    # back_projected_points[~inside_mask] = np.nan\n",
        "\n",
        "    # The result is a 3D array where each layer along the last axis represents one dimension in hyperspace\n",
        "    return dimension_matrices\n",
        "\n",
        "# Calculate Euclidean distance\n",
        "def euclidean_distance(vector1, vector2):\n",
        "    return torch.norm(vector1 - vector2)\n",
        "\n",
        "# Assuming stacked_samples is already defined from the previous code\n",
        "distance = euclidean_distance(stacked_samples[0], stacked_samples[1])\n",
        "\n",
        "print(f\"Euclidean distance between the two vectors: {distance}\")\n",
        "\n",
        "\n",
        "# Example usage\n",
        "domain = get_square_slice_from_two_anchors(stacked_samples,pad_dist=int(distance/2),seed=42).detach().numpy()\n",
        "# domain = np.array([\n",
        "#     [0.2572, 0.7355, 1.1020],\n",
        "#     [1.5166, -1.7285, 0.5166],\n",
        "#     [-0.7304, -2.5139, -1.0113],\n",
        "#     [-1.9897, -0.0499, -0.4259],\n",
        "#     [0.2572, 0.7355, 1.1020]  # Closing the polygon\n",
        "# ])\n",
        "\n",
        "grid_points = create_2d_arrays_for_hyperspace(domain)\n",
        "\n",
        "print(\"Shape of the final 2D stacked array:\", len(grid_points))\n"
      ],
      "metadata": {
        "colab": {
          "base_uri": "https://localhost:8080/"
        },
        "id": "TcMH3icUYKC3",
        "outputId": "ef6e46f6-8fda-4369-e22a-0832c7e95df7"
      },
      "execution_count": null,
      "outputs": [
        {
          "output_type": "stream",
          "name": "stdout",
          "text": [
            "Euclidean distance between the two vectors: 16.741474151611328\n",
            "Shape of the final 2D stacked array: 784\n"
          ]
        }
      ]
    },
    {
      "cell_type": "code",
      "source": [
        "import torch\n",
        "\n",
        "def get_square_domain_from_three_anchors(anchors, pad_dist=1, seed=-1):\n",
        "    if seed != -1:\n",
        "        torch.manual_seed(seed)\n",
        "\n",
        "    assert len(anchors) == 3\n",
        "\n",
        "    # Compute the centroid of the anchors\n",
        "    centroid = torch.mean(anchors, dim=0)\n",
        "\n",
        "    # Vectors in the plane defined by the anchors\n",
        "    u1 = anchors[1] - anchors[0]\n",
        "    u2 = anchors[2] - anchors[0]\n",
        "\n",
        "    # Orthonormalize u1 and u2 using the Gram-Schmidt process\n",
        "    u1 = u1 / torch.linalg.norm(u1)\n",
        "    u2 = u2 - torch.dot(u2, u1) * u1\n",
        "    u2_norm = torch.linalg.norm(u2)\n",
        "    if u2_norm < 1e-8:\n",
        "        # If u2 is nearly zero vector after orthogonalization, generate a random vector orthogonal to u1\n",
        "        u2 = torch.randn_like(u1)\n",
        "        u2 = u2 - torch.dot(u2, u1) * u1\n",
        "        u2_norm = torch.linalg.norm(u2)\n",
        "    u2 = u2 / u2_norm\n",
        "\n",
        "    # Directions (orthonormal basis) in the plane\n",
        "    dirs = torch.stack([u1, u2])\n",
        "\n",
        "    # Project the anchors onto the plane's coordinate system\n",
        "    projections = (anchors - centroid) @ dirs.T  # Shape: (3, 2)\n",
        "\n",
        "    # Find min and max projections along each direction\n",
        "    min_proj = projections.min(dim=0).values - pad_dist\n",
        "    max_proj = projections.max(dim=0).values + pad_dist\n",
        "\n",
        "    # Adjust the ranges to make the domain a square\n",
        "    ranges = max_proj - min_proj\n",
        "    max_range = torch.max(ranges)\n",
        "    for i in range(2):\n",
        "        if ranges[i] < max_range:\n",
        "            delta = max_range - ranges[i]\n",
        "            min_proj[i] -= delta / 2\n",
        "            max_proj[i] += delta / 2\n",
        "\n",
        "    # Construct the square domain corners in the projection plane\n",
        "    corners_proj = torch.tensor([\n",
        "        [min_proj[0], min_proj[1]],\n",
        "        [min_proj[0], max_proj[1]],\n",
        "        [max_proj[0], max_proj[1]],\n",
        "        [max_proj[0], min_proj[1]]\n",
        "    ])\n",
        "\n",
        "    # Map the corners back to the original hyperdimensional space\n",
        "    corners = centroid + corners_proj @ dirs\n",
        "\n",
        "    # Close the polygon by appending the first corner at the end\n",
        "    domain_poly = torch.vstack([corners, corners[0].unsqueeze(0)])\n",
        "\n",
        "    return domain_poly\n"
      ],
      "metadata": {
        "id": "xXZtM6P6YM5j"
      },
      "execution_count": null,
      "outputs": []
    },
    {
      "cell_type": "code",
      "source": [
        "samples2 = samples.copy()\n",
        "samples2.append(stacked_other_samples[0])\n",
        "stacked_three_samples = torch.stack(samples2)\n",
        "stacked_three_samples"
      ],
      "metadata": {
        "colab": {
          "base_uri": "https://localhost:8080/"
        },
        "id": "jXumBR0qYQg_",
        "outputId": "034afab4-b8b7-405f-c7b1-94ad62b91820"
      },
      "execution_count": null,
      "outputs": [
        {
          "output_type": "execute_result",
          "data": {
            "text/plain": [
              "tensor([[ 0.0196,  0.0588,  0.0824,  ...,  0.3255,  0.3098,  0.3098],\n",
              "        [-0.4431, -0.5059, -0.9216,  ...,  0.3255,  0.0275, -0.5608],\n",
              "        [-0.1686, -0.1294, -0.0667,  ...,  0.3020,  0.2706,  0.2549]])"
            ]
          },
          "metadata": {},
          "execution_count": 38
        }
      ]
    },
    {
      "cell_type": "code",
      "source": [
        "domain"
      ],
      "metadata": {
        "colab": {
          "base_uri": "https://localhost:8080/"
        },
        "id": "uzB62AUoYcd9",
        "outputId": "d3501f9c-4b29-4e13-a78a-0085a143c553"
      },
      "execution_count": null,
      "outputs": [
        {
          "output_type": "execute_result",
          "data": {
            "text/plain": [
              "array([[ 0.00936049,  0.04631826,  0.06012133, ...,  0.32549024,\n",
              "         0.30355132,  0.29052493],\n",
              "       [ 0.3326263 ,  0.19387439, -0.17569873, ...,  0.5453005 ,\n",
              "        -0.05429001, -0.40846965],\n",
              "       [-0.43288982, -0.49337706, -0.89933693, ...,  0.32549024,\n",
              "         0.0337037 , -0.54150534],\n",
              "       [-0.7561556 , -0.64093316, -0.6635169 , ...,  0.10567996,\n",
              "         0.391545  ,  0.15748927],\n",
              "       [ 0.00936049,  0.04631826,  0.06012133, ...,  0.32549024,\n",
              "         0.30355132,  0.29052493]], dtype=float32)"
            ]
          },
          "metadata": {},
          "execution_count": 39
        }
      ]
    },
    {
      "cell_type": "code",
      "source": [
        "# Assuming stacked_samples is already defined from the previous code\n",
        "distance = euclidean_distance(stacked_samples[0], stacked_samples[1])\n",
        "domain = get_square_domain_from_three_anchors(stacked_three_samples,pad_dist=int(distance*2/3),seed=42).detach().numpy()\n",
        "\n",
        "grid_points = create_2d_arrays_for_hyperspace(domain)\n",
        "\n",
        "print(\"Shape of the final 2D stacked array:\", len(grid_points))"
      ],
      "metadata": {
        "colab": {
          "base_uri": "https://localhost:8080/"
        },
        "id": "M6XywGBkYdZu",
        "outputId": "b6fb00ff-1cf8-4a37-e0ea-7f909eecb91e"
      },
      "execution_count": null,
      "outputs": [
        {
          "output_type": "stream",
          "name": "stdout",
          "text": [
            "Shape of the final 2D stacked array: 784\n"
          ]
        }
      ]
    },
    {
      "cell_type": "code",
      "source": [
        "model_dict_ls = [np.array(ls.cpu()) for ls in list(model.state_dict().values())]\n",
        "Z = fn(np.array(grid_points),model_dict_ls,0)[0]"
      ],
      "metadata": {
        "id": "rJ55Su1rYhwq"
      },
      "execution_count": null,
      "outputs": []
    },
    {
      "cell_type": "code",
      "source": [
        "# Step 1: Compute the projection matrix and translation vector\n",
        "P, x0 = get_proj_mat(domain)  # P: (2, n), x0: (n,)\n",
        "\n",
        "# Step 2: Project the domain to 2D\n",
        "domain_2d = project_points(domain, P, x0)  # Shape: (m, 2)\n",
        "\n",
        "# Step 3: Create a 2D grid in the projected space\n",
        "x_min, x_max = domain_2d[:, 0].min(), domain_2d[:, 0].max()\n",
        "y_min, y_max = domain_2d[:, 1].min(), domain_2d[:, 1].max()\n",
        "x2 = np.linspace(x_min, x_max, 100)\n",
        "y2 = np.linspace(y_min, y_max, 100)\n",
        "X2, Y2 = np.meshgrid(x2, y2)  # Shapes: (100, 100)\n",
        "\n",
        "\n",
        "\n",
        "# Define the labeled points\n",
        "labeled_points = {\n",
        "    \"3\": np.array(stacked_three_samples[0].detach().numpy()),\n",
        "    \"3_2nd\": np.array(stacked_three_samples[2].detach().numpy()),\n",
        "    \"2\": np.array(stacked_three_samples[1].detach().numpy()),\n",
        "}\n",
        "\n",
        "# Project the labeled points to 2D\n",
        "projected_labeled_points = {label: project_points(point[None, :], P, x0)[0] for label, point in labeled_points.items()}\n",
        "\n",
        "# Plot the contour for activation value 0.5\n",
        "plt.figure(figsize=(10, 6))\n",
        "contour = plt.contour(X2, Y2, Z, levels=[0.5], colors='red', linewidths=2)\n",
        "\n",
        "# Plot the labeled points\n",
        "for label, point in projected_labeled_points.items():\n",
        "    if label in [\"3\" ,\"3_2nd\"]:\n",
        "        plt.scatter(point[0], point[1], color='blue', label=label, s=100)  # Blue for inside\n",
        "    elif label == \"2\":\n",
        "        plt.scatter(point[0], point[1], color='green', label=label, s=100)  # Green for outside\n",
        "\n",
        "# Add labels, title, and legend\n",
        "plt.xlabel('Feature 1 (Projected Dimension 1)')\n",
        "plt.ylabel('Feature 2 (Projected Dimension 2)')\n",
        "plt.title('Contour Plot for Activation Value 0.5 with Labeled Points')\n",
        "plt.legend()\n",
        "plt.grid()\n",
        "plt.show()\n"
      ],
      "metadata": {
        "colab": {
          "base_uri": "https://localhost:8080/",
          "height": 564
        },
        "id": "EgNrhQfDYk7o",
        "outputId": "c9ac3575-7c46-46fc-9782-48d966c63c2d"
      },
      "execution_count": null,
      "outputs": [
        {
          "output_type": "display_data",
          "data": {
            "text/plain": [
              "<Figure size 1000x600 with 1 Axes>"
            ],
            "image/png": "[encoded data removed]"
          },
          "metadata": {}
        }
      ]
    },
    {
      "cell_type": "markdown",
      "source": [
        "#Experiment 3"
      ],
      "metadata": {
        "id": "Mmw0gQ81ZyKf"
      }
    },
    {
      "cell_type": "code",
      "source": [
        "samples = []\n",
        "label_done = -1\n",
        "for i, (data, labels) in enumerate(train_loader):\n",
        "    if label_done != labels[0]:\n",
        "        samples.append(data[0].flatten())  # Get the first data point from the batch\n",
        "        label_done = labels[0]\n",
        "        print(labels[0])\n",
        "    if len(samples) == 2:\n",
        "        break\n",
        "\n",
        "stacked_samples = torch.stack(samples)\n",
        "stacked_samples"
      ],
      "metadata": {
        "colab": {
          "base_uri": "https://localhost:8080/"
        },
        "id": "BSBrJvYDYphy",
        "outputId": "bf5c0042-8da3-45d0-fe9c-378ce5adb06f"
      },
      "execution_count": null,
      "outputs": [
        {
          "output_type": "stream",
          "name": "stdout",
          "text": [
            "tensor([1])\n",
            "tensor([0])\n"
          ]
        },
        {
          "output_type": "execute_result",
          "data": {
            "text/plain": [
              "tensor([[-0.1686, -0.1294, -0.0667,  ...,  0.3020,  0.2706,  0.2549],\n",
              "        [-0.0902, -0.0196,  0.0275,  ...,  0.5608,  0.5294,  0.5137]])"
            ]
          },
          "metadata": {},
          "execution_count": 123
        }
      ]
    },
    {
      "cell_type": "code",
      "source": [
        "import matplotlib.pyplot as plt\n",
        "\n",
        "# Reshape the flattened tensors back into 28x28 images\n",
        "image1 = stacked_samples[0].reshape(28, 28)\n",
        "image2 = stacked_samples[1].reshape(28, 28)\n",
        "\n",
        "# Create a figure and axes\n",
        "fig, axes = plt.subplots(1, 2, figsize=(8, 4))\n",
        "\n",
        "# Display the first image\n",
        "axes[0].imshow(image1, cmap='gray')\n",
        "axes[0].set_title('Sample 1')\n",
        "\n",
        "# Display the second image\n",
        "axes[1].imshow(image2, cmap='gray')\n",
        "axes[1].set_title('Sample 2')\n",
        "\n",
        "# Adjust layout and show the plot\n",
        "plt.tight_layout()\n",
        "plt.show()"
      ],
      "metadata": {
        "colab": {
          "base_uri": "https://localhost:8080/",
          "height": 433
        },
        "id": "WeLag-_MZ5rj",
        "outputId": "6f827ad0-d293-4c41-cf53-ff78965548ea"
      },
      "execution_count": null,
      "outputs": [
        {
          "output_type": "display_data",
          "data": {
            "text/plain": [
              "<Figure size 800x400 with 2 Axes>"
            ],
            "image/png": "[encoded data removed]"
          },
          "metadata": {}
        }
      ]
    },
    {
      "cell_type": "code",
      "source": [
        "other_samples = []\n",
        "label_done = -1\n",
        "for i, (data, labels) in enumerate(train_loader):\n",
        "    if label_done != labels[0]:\n",
        "        other_samples.append(data[0].flatten())  # Get the first data point from the batch\n",
        "        label_done = labels[0]\n",
        "        print(labels[0])\n",
        "    if len(other_samples) == 2:\n",
        "        break\n",
        "\n",
        "stacked_other_samples = torch.stack(other_samples)\n",
        "stacked_other_samples"
      ],
      "metadata": {
        "colab": {
          "base_uri": "https://localhost:8080/"
        },
        "id": "N9pvdauXZ9i2",
        "outputId": "3c04903a-662d-417e-d9f2-2c03973c88fd"
      },
      "execution_count": null,
      "outputs": [
        {
          "output_type": "stream",
          "name": "stdout",
          "text": [
            "tensor([1])\n",
            "tensor([0])\n"
          ]
        },
        {
          "output_type": "execute_result",
          "data": {
            "text/plain": [
              "tensor([[-0.4980, -0.4431, -0.4902,  ...,  0.5137,  0.4902,  0.4745],\n",
              "        [ 0.1608,  0.1216,  0.0824,  ...,  0.5529,  0.4667,  0.4196]])"
            ]
          },
          "metadata": {},
          "execution_count": 125
        }
      ]
    },
    {
      "cell_type": "code",
      "source": [
        "import matplotlib.pyplot as plt\n",
        "\n",
        "# Reshape the flattened tensors back into 28x28 images\n",
        "image1 = stacked_other_samples[0].reshape(28, 28)\n",
        "image2 = stacked_other_samples[1].reshape(28, 28)\n",
        "\n",
        "# Create a figure and axes\n",
        "fig, axes = plt.subplots(1, 2, figsize=(8, 4))\n",
        "\n",
        "# Display the first image\n",
        "axes[0].imshow(image1, cmap='gray')\n",
        "axes[0].set_title('Sample 1')\n",
        "\n",
        "# Display the second image\n",
        "axes[1].imshow(image2, cmap='gray')\n",
        "axes[1].set_title('Sample 2')\n",
        "\n",
        "# Adjust layout and show the plot\n",
        "plt.tight_layout()\n",
        "plt.show()"
      ],
      "metadata": {
        "colab": {
          "base_uri": "https://localhost:8080/",
          "height": 433
        },
        "id": "UoKJ1XBYaDgD",
        "outputId": "d1af980d-77f8-45cd-b87c-3512cd236f10"
      },
      "execution_count": null,
      "outputs": [
        {
          "output_type": "display_data",
          "data": {
            "text/plain": [
              "<Figure size 800x400 with 2 Axes>"
            ],
            "image/png": "[encoded data removed]"
          },
          "metadata": {}
        }
      ]
    },
    {
      "cell_type": "code",
      "source": [
        "# Calculate Euclidean distance\n",
        "def euclidean_distance(vector1, vector2):\n",
        "    return torch.norm(vector1 - vector2)\n",
        "\n",
        "# Assuming stacked_samples is already defined from the previous code\n",
        "distance = euclidean_distance(stacked_other_samples[0], stacked_samples[0])\n",
        "\n",
        "print(f\"Euclidean distance between the two vectors: {distance}\")"
      ],
      "metadata": {
        "colab": {
          "base_uri": "https://localhost:8080/"
        },
        "id": "6Z2VP5nBaHq4",
        "outputId": "521f2551-44e7-4e3c-8b1b-c6011356bc38"
      },
      "execution_count": null,
      "outputs": [
        {
          "output_type": "stream",
          "name": "stdout",
          "text": [
            "Euclidean distance between the two vectors: 8.62503433227539\n"
          ]
        }
      ]
    },
    {
      "cell_type": "code",
      "source": [
        "# Calculate Euclidean distance\n",
        "def euclidean_distance(vector1, vector2):\n",
        "    return torch.norm(vector1 - vector2)\n",
        "\n",
        "# Assuming stacked_samples is already defined from the previous code\n",
        "distance = euclidean_distance(stacked_other_samples[1], stacked_samples[1])\n",
        "\n",
        "print(f\"Euclidean distance between the two vectors: {distance}\")"
      ],
      "metadata": {
        "colab": {
          "base_uri": "https://localhost:8080/"
        },
        "id": "hNf3DkidaMa7",
        "outputId": "a1b54238-419b-4744-84bf-4edc00895568"
      },
      "execution_count": null,
      "outputs": [
        {
          "output_type": "stream",
          "name": "stdout",
          "text": [
            "Euclidean distance between the two vectors: 7.5139875411987305\n"
          ]
        }
      ]
    },
    {
      "cell_type": "code",
      "source": [
        "# Calculate Euclidean distance\n",
        "def euclidean_distance(vector1, vector2):\n",
        "    return torch.norm(vector1 - vector2)\n",
        "\n",
        "# Assuming stacked_samples is already defined from the previous code\n",
        "distance = euclidean_distance(stacked_other_samples[0], stacked_other_samples[1])\n",
        "\n",
        "print(f\"Euclidean distance between the two vectors: {distance}\")"
      ],
      "metadata": {
        "colab": {
          "base_uri": "https://localhost:8080/"
        },
        "id": "-ZQ4N7N4aQsZ",
        "outputId": "75881058-92dc-4cb3-e089-aee5bb9e157b"
      },
      "execution_count": null,
      "outputs": [
        {
          "output_type": "stream",
          "name": "stdout",
          "text": [
            "Euclidean distance between the two vectors: 9.574958801269531\n"
          ]
        }
      ]
    },
    {
      "cell_type": "code",
      "source": [
        "# Calculate Euclidean distance\n",
        "def euclidean_distance(vector1, vector2):\n",
        "    return torch.norm(vector1 - vector2)\n",
        "\n",
        "# Assuming stacked_samples is already defined from the previous code\n",
        "distance = euclidean_distance(stacked_samples[0], stacked_samples[1])\n",
        "\n",
        "print(f\"Euclidean distance between the two vectors: {distance}\")"
      ],
      "metadata": {
        "colab": {
          "base_uri": "https://localhost:8080/"
        },
        "id": "D0M8UeXIaU3C",
        "outputId": "e0c7c6f4-82d0-4bb5-e4bb-d314ae80a833"
      },
      "execution_count": null,
      "outputs": [
        {
          "output_type": "stream",
          "name": "stdout",
          "text": [
            "Euclidean distance between the two vectors: 6.849722385406494\n"
          ]
        }
      ]
    },
    {
      "cell_type": "code",
      "source": [
        "import numpy as np\n",
        "from matplotlib.path import Path\n",
        "\n",
        "def get_proj_mat(domain):\n",
        "    \"\"\"\n",
        "    Compute the projection matrix P and translation vector x0 for projecting n-dimensional points to 2D.\n",
        "    \"\"\"\n",
        "    v1 = domain[1] - domain[0]\n",
        "    v2 = domain[2] - domain[0]\n",
        "\n",
        "    # Orthonormal basis via Gram-Schmidt process\n",
        "    e1 = v1 / np.linalg.norm(v1)\n",
        "    v2_proj = v2 - np.dot(v2, e1) * e1\n",
        "    e2 = v2_proj / np.linalg.norm(v2_proj)\n",
        "\n",
        "    # Projection matrix from nD to 2D\n",
        "    P = np.vstack([e1, e2])  # Shape: (2, n)\n",
        "\n",
        "    # Translation vector (mean of the domain)\n",
        "    x0 = domain.mean(axis=0)  # Shape: (n,)\n",
        "\n",
        "    return P, x0\n",
        "\n",
        "def project_points(points, P, x0):\n",
        "    \"\"\"\n",
        "    Project n-dimensional points to 2D using projection matrix P and translation x0.\n",
        "    \"\"\"\n",
        "    return (P @ (points - x0).T).T  # Shape: (N, 2)\n",
        "\n",
        "def back_project_points(points_2d, P, x0):\n",
        "    \"\"\"\n",
        "    Back-project 2D points to n-dimensional space using the pseudoinverse of P and translation x0.\n",
        "    \"\"\"\n",
        "    P_pinv = np.linalg.pinv(P)  # Shape: (n, 2)\n",
        "    return (P_pinv @ points_2d.T).T + x0  # Shape: (N, n)\n",
        "\n",
        "def create_2d_arrays_for_hyperspace(domain):\n",
        "    \"\"\"\n",
        "    Create 2D arrays for each dimension such that the square domain in hyperspace is represented\n",
        "    as a 2D grid of points lying within the domain.\n",
        "    \"\"\"\n",
        "    # Step 1: Compute the projection matrix and translation vector\n",
        "    P, x0 = get_proj_mat(domain)  # P: (2, n), x0: (n,)\n",
        "\n",
        "    # Step 2: Project the domain to 2D\n",
        "    domain_2d = project_points(domain, P, x0)  # Shape: (m, 2)\n",
        "\n",
        "    # Step 3: Create a 2D grid in the projected space\n",
        "    x_min, x_max = domain_2d[:, 0].min(), domain_2d[:, 0].max()\n",
        "    y_min, y_max = domain_2d[:, 1].min(), domain_2d[:, 1].max()\n",
        "    x2 = np.linspace(x_min, x_max, 100)\n",
        "    y2 = np.linspace(y_min, y_max, 100)\n",
        "    X2, Y2 = np.meshgrid(x2, y2)  # Shapes: (100, 100)\n",
        "\n",
        "    # Step 4: Flatten the grid and back-project to hyperspace\n",
        "    grid_2d_flat = np.vstack([X2.ravel(), Y2.ravel()]).T  # Shape: (10000, 2)\n",
        "    back_projected_points_flat = back_project_points(grid_2d_flat, P, x0)  # Shape: (10000, n)\n",
        "\n",
        "    # Step 5: Filter points that lie inside the projected domain\n",
        "    path = Path(domain_2d)\n",
        "    inside_mask_flat = path.contains_points(grid_2d_flat)  # Shape: (10000,)\n",
        "\n",
        "    # Step 6: Reshape back-projected points and mask to grid shape\n",
        "    back_projected_points = back_projected_points_flat.reshape(X2.shape + (back_projected_points_flat.shape[1],))  # Shape: (100, 100, n)\n",
        "\n",
        "    # Assuming grid_points is the array of shape (100, 100, n)\n",
        "    unstacked_matrices = np.moveaxis(back_projected_points, -1, 0)  # Move the last axis to the first\n",
        "\n",
        "    # Now unstacked_matrices is of shape (n, 100, 100)\n",
        "    # You can unpack it into individual matrices\n",
        "    dimension_matrices = list(unstacked_matrices)\n",
        "\n",
        "    # Step 7: Set points outside the domain to NaN\n",
        "    # inside_mask = inside_mask_flat.reshape(X2.shape)  # Shape: (100, 100)\n",
        "    # back_projected_points[~inside_mask] = np.nan\n",
        "\n",
        "    # The result is a 3D array where each layer along the last axis represents one dimension in hyperspace\n",
        "    return dimension_matrices\n",
        "\n",
        "# Calculate Euclidean distance\n",
        "def euclidean_distance(vector1, vector2):\n",
        "    return torch.norm(vector1 - vector2)\n",
        "\n",
        "# Assuming stacked_samples is already defined from the previous code\n",
        "distance = euclidean_distance(stacked_samples[0], stacked_samples[1])\n",
        "\n",
        "print(f\"Euclidean distance between the two vectors: {distance}\")\n",
        "\n",
        "\n",
        "# Example usage\n",
        "domain = get_square_slice_from_two_anchors(stacked_samples,pad_dist=int(distance/2),seed=42).detach().numpy()\n",
        "# domain = np.array([\n",
        "#     [0.2572, 0.7355, 1.1020],\n",
        "#     [1.5166, -1.7285, 0.5166],\n",
        "#     [-0.7304, -2.5139, -1.0113],\n",
        "#     [-1.9897, -0.0499, -0.4259],\n",
        "#     [0.2572, 0.7355, 1.1020]  # Closing the polygon\n",
        "# ])\n",
        "\n",
        "grid_points = create_2d_arrays_for_hyperspace(domain)\n",
        "\n",
        "print(\"Shape of the final 2D stacked array:\", len(grid_points))\n"
      ],
      "metadata": {
        "colab": {
          "base_uri": "https://localhost:8080/"
        },
        "id": "Vi1qoNYaaY2k",
        "outputId": "a7bf42f1-aa02-42a2-d40d-50f599ea9bdb"
      },
      "execution_count": null,
      "outputs": [
        {
          "output_type": "stream",
          "name": "stdout",
          "text": [
            "Euclidean distance between the two vectors: 6.849722385406494\n",
            "Shape of the final 2D stacked array: 784\n"
          ]
        }
      ]
    },
    {
      "cell_type": "code",
      "source": [
        "import torch\n",
        "\n",
        "def get_square_domain_from_three_anchors(anchors, pad_dist=1, seed=-1):\n",
        "    if seed != -1:\n",
        "        torch.manual_seed(seed)\n",
        "\n",
        "    assert len(anchors) == 3\n",
        "\n",
        "    # Compute the centroid of the anchors\n",
        "    centroid = torch.mean(anchors, dim=0)\n",
        "\n",
        "    # Vectors in the plane defined by the anchors\n",
        "    u1 = anchors[1] - anchors[0]\n",
        "    u2 = anchors[2] - anchors[0]\n",
        "\n",
        "    # Orthonormalize u1 and u2 using the Gram-Schmidt process\n",
        "    u1 = u1 / torch.linalg.norm(u1)\n",
        "    u2 = u2 - torch.dot(u2, u1) * u1\n",
        "    u2_norm = torch.linalg.norm(u2)\n",
        "    if u2_norm < 1e-8:\n",
        "        # If u2 is nearly zero vector after orthogonalization, generate a random vector orthogonal to u1\n",
        "        u2 = torch.randn_like(u1)\n",
        "        u2 = u2 - torch.dot(u2, u1) * u1\n",
        "        u2_norm = torch.linalg.norm(u2)\n",
        "    u2 = u2 / u2_norm\n",
        "\n",
        "    # Directions (orthonormal basis) in the plane\n",
        "    dirs = torch.stack([u1, u2])\n",
        "\n",
        "    # Project the anchors onto the plane's coordinate system\n",
        "    projections = (anchors - centroid) @ dirs.T  # Shape: (3, 2)\n",
        "\n",
        "    # Find min and max projections along each direction\n",
        "    min_proj = projections.min(dim=0).values - pad_dist\n",
        "    max_proj = projections.max(dim=0).values + pad_dist\n",
        "\n",
        "    # Adjust the ranges to make the domain a square\n",
        "    ranges = max_proj - min_proj\n",
        "    max_range = torch.max(ranges)\n",
        "    for i in range(2):\n",
        "        if ranges[i] < max_range:\n",
        "            delta = max_range - ranges[i]\n",
        "            min_proj[i] -= delta / 2\n",
        "            max_proj[i] += delta / 2\n",
        "\n",
        "    # Construct the square domain corners in the projection plane\n",
        "    corners_proj = torch.tensor([\n",
        "        [min_proj[0], min_proj[1]],\n",
        "        [min_proj[0], max_proj[1]],\n",
        "        [max_proj[0], max_proj[1]],\n",
        "        [max_proj[0], min_proj[1]]\n",
        "    ])\n",
        "\n",
        "    # Map the corners back to the original hyperdimensional space\n",
        "    corners = centroid + corners_proj @ dirs\n",
        "\n",
        "    # Close the polygon by appending the first corner at the end\n",
        "    domain_poly = torch.vstack([corners, corners[0].unsqueeze(0)])\n",
        "\n",
        "    return domain_poly\n"
      ],
      "metadata": {
        "id": "r00FiX8Nac5P"
      },
      "execution_count": null,
      "outputs": []
    },
    {
      "cell_type": "code",
      "source": [
        "samples2 = samples.copy()\n",
        "samples2.append(stacked_other_samples[0])\n",
        "stacked_three_samples = torch.stack(samples2)\n",
        "stacked_three_samples"
      ],
      "metadata": {
        "colab": {
          "base_uri": "https://localhost:8080/"
        },
        "id": "DOpkGM0MagRw",
        "outputId": "006e3cc1-ea5c-4551-c845-13a1602a17de"
      },
      "execution_count": null,
      "outputs": [
        {
          "output_type": "execute_result",
          "data": {
            "text/plain": [
              "tensor([[-0.1686, -0.1294, -0.0667,  ...,  0.3020,  0.2706,  0.2549],\n",
              "        [-0.0902, -0.0196,  0.0275,  ...,  0.5608,  0.5294,  0.5137],\n",
              "        [-0.4980, -0.4431, -0.4902,  ...,  0.5137,  0.4902,  0.4745]])"
            ]
          },
          "metadata": {},
          "execution_count": 133
        }
      ]
    },
    {
      "cell_type": "code",
      "source": [
        "# Assuming stacked_samples is already defined from the previous code\n",
        "distance = euclidean_distance(stacked_samples[0], stacked_samples[1])\n",
        "domain = get_square_domain_from_three_anchors(stacked_three_samples,pad_dist=int(distance*2/3),seed=42).detach().numpy()\n",
        "\n",
        "grid_points = create_2d_arrays_for_hyperspace(domain)\n",
        "\n",
        "print(\"Shape of the final 2D stacked array:\", len(grid_points))"
      ],
      "metadata": {
        "colab": {
          "base_uri": "https://localhost:8080/"
        },
        "id": "JOzTDOj1ajp-",
        "outputId": "58365e09-4863-4a4c-89c6-d4c5d81e2f00"
      },
      "execution_count": null,
      "outputs": [
        {
          "output_type": "stream",
          "name": "stdout",
          "text": [
            "Shape of the final 2D stacked array: 784\n"
          ]
        }
      ]
    },
    {
      "cell_type": "code",
      "source": [
        "model_dict_ls = [np.array(ls.cpu()) for ls in list(model.state_dict().values())]\n",
        "Z = fn(np.array(grid_points),model_dict_ls,0)[0]"
      ],
      "metadata": {
        "id": "cvVFvsSBanRV"
      },
      "execution_count": null,
      "outputs": []
    },
    {
      "cell_type": "code",
      "source": [
        "# Step 1: Compute the projection matrix and translation vector\n",
        "P, x0 = get_proj_mat(domain)  # P: (2, n), x0: (n,)\n",
        "\n",
        "# Step 2: Project the domain to 2D\n",
        "domain_2d = project_points(domain, P, x0)  # Shape: (m, 2)\n",
        "\n",
        "# Step 3: Create a 2D grid in the projected space\n",
        "x_min, x_max = domain_2d[:, 0].min(), domain_2d[:, 0].max()\n",
        "y_min, y_max = domain_2d[:, 1].min(), domain_2d[:, 1].max()\n",
        "x2 = np.linspace(x_min, x_max, 100)\n",
        "y2 = np.linspace(y_min, y_max, 100)\n",
        "X2, Y2 = np.meshgrid(x2, y2)  # Shapes: (100, 100)\n",
        "\n",
        "\n",
        "\n",
        "# Define the labeled points\n",
        "labeled_points = {\n",
        "    \"3\": np.array(stacked_three_samples[0].detach().numpy()),\n",
        "    \"3_2nd\": np.array(stacked_three_samples[2].detach().numpy()),\n",
        "    \"2\": np.array(stacked_three_samples[1].detach().numpy()),\n",
        "}\n",
        "\n",
        "# Project the labeled points to 2D\n",
        "projected_labeled_points = {label: project_points(point[None, :], P, x0)[0] for label, point in labeled_points.items()}\n",
        "\n",
        "# Plot the contour for activation value 0.5\n",
        "plt.figure(figsize=(10, 6))\n",
        "contour = plt.contour(X2, Y2, Z, levels=[0.5], colors='red', linewidths=2)\n",
        "\n",
        "# Plot the labeled points\n",
        "for label, point in projected_labeled_points.items():\n",
        "    if label in [\"3\" ,\"3_2nd\"]:\n",
        "        plt.scatter(point[0], point[1], color='blue', label=label, s=100)  # Blue for inside\n",
        "    elif label == \"2\":\n",
        "        plt.scatter(point[0], point[1], color='green', label=label, s=100)  # Green for outside\n",
        "\n",
        "# Add labels, title, and legend\n",
        "plt.xlabel('Feature 1 (Projected Dimension 1)')\n",
        "plt.ylabel('Feature 2 (Projected Dimension 2)')\n",
        "plt.title('Contour Plot for Activation Value 0.5 with Labeled Points')\n",
        "plt.legend()\n",
        "plt.grid()\n",
        "plt.show()\n"
      ],
      "metadata": {
        "colab": {
          "base_uri": "https://localhost:8080/",
          "height": 564
        },
        "id": "DTwCbq7harHP",
        "outputId": "a476c831-4a0d-4ebe-9c63-72c36ecfb711"
      },
      "execution_count": null,
      "outputs": [
        {
          "output_type": "display_data",
          "data": {
            "text/plain": [
              "<Figure size 1000x600 with 1 Axes>"
            ],
            "image/png": "[encoded data removed]"
          },
          "metadata": {}
        }
      ]
    },
    {
      "cell_type": "code",
      "source": [],
      "metadata": {
        "id": "SoPKsllPav9s"
      },
      "execution_count": null,
      "outputs": []
    }
  ]
}